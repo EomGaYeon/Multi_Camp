{
 "cells": [
  {
   "cell_type": "markdown",
   "metadata": {
    "colab_type": "text",
    "id": "view-in-github"
   },
   "source": [
    "<a href=\"https://colab.research.google.com/github/yleessam/datascience/blob/main/20%EC%B0%A8%EC%8B%9C_%ED%8C%8C%EC%9D%B4%EC%8D%AC%EB%8D%B0%EC%9D%B4%ED%84%B0%EB%B6%84%EC%84%9D_%EC%8B%A4%EC%8A%B5.ipynb\" target=\"_parent\"><img src=\"https://colab.research.google.com/assets/colab-badge.svg\" alt=\"Open In Colab\"/></a>"
   ]
  },
  {
   "cell_type": "markdown",
   "metadata": {
    "id": "471_omVbzt5v"
   },
   "source": [
    "# 파이썬 데이터분석 실습"
   ]
  },
  {
   "cell_type": "markdown",
   "metadata": {
    "id": "2tiRXBd_zt50"
   },
   "source": [
    "# 순서\n",
    "0. 데이터 확인\n",
    "1. 필요 라이브러리 임포트 및 파일 읽어오기\n",
    "2. EDA 탐색적 데이터 분석\n",
    "3. 데이터 전처리 수행\n",
    " - 필요한 컬럼 정리\n",
    " - 컬럼 데이터 정제\n",
    " - Null 처리\n",
    " - 컬럼 type 변경하기\n",
    "4. 데이터 시각화\n",
    "5. 결과 저장"
   ]
  },
  {
   "cell_type": "markdown",
   "metadata": {
    "id": "C6XPa1owzt50"
   },
   "source": [
    "# #0. 데이터의 확인"
   ]
  },
  {
   "cell_type": "markdown",
   "metadata": {
    "id": "d0UfUo5xzt51"
   },
   "source": [
    "https://www.kaggle.com/datasets/blastchar/telco-customer-churn\n",
    "\n",
    "- 통신사 고객 데이터를 분석해서 고객을 유지하고 고객 이탈률을 줄이기 위한 전략을 탐색한다.\n",
    "\n",
    "- Churn은 서비스를 중단하거나 업계의 경쟁업체로 이전한 고객 또는 사용자를 의미하는데, 목표는 기존 고객을 유지하고 새로운 고객을 유치하는 것입니다.\n",
    "\n",
    "- 이 과정을 통해 우리는 정확한 고객이탈 예측 모델을 개발할 수 있습니다."
   ]
  },
  {
   "cell_type": "markdown",
   "metadata": {
    "id": "Jt8N_9ybzt58"
   },
   "source": [
    "# * Telco Customer Churn Dataset  컬럼\n",
    "\n",
    "---\n",
    "\n",
    "\n",
    "1. CustomerID: Customer ID unique for each customer\n",
    "2. gender: Whether the customer is a male or a female\n",
    "3. SeniorCitizen: Whether the customer is a senior citizen or not (1, 0) : 고령자 여부\n",
    "4. Partner: Whether the customer has a partner or not (Yes, No)\n",
    "5. Dependents: Whether the customer has dependents or not (Yes, No) : 부양가족 여부\n",
    "6. Tenure: Number of months the customer has stayed with the company : 서비스 사용 개월수\n",
    "7. PhoneService: Whether the customer has a phone service or not (Yes, No)\n",
    "8. MultipleLines: Whether the customer has multiple lines or not (Yes, No, No phone service)\n",
    "9. InternetService: Customer’s internet service provider (DSL, Fiber optic, No)\n",
    "10. OnlineSecurity: Whether the customer has online security or not (Yes, No, No internet service)\n",
    "11. OnlineBackup: Whether the customer has an online backup or not (Yes, No, No internet service)\n",
    "12. DeviceProtection: Whether the customer has device protection or not (Yes, No, No internet service)\n",
    "13. TechSupport: Whether the customer has tech support or not (Yes, No, No internet service)\n",
    "14. StreamingTV: Whether the customer has streaming TV or not (Yes, No, No internet service)\n",
    "15. StreamingMovies: Whether the customer has streaming movies or not (Yes, No, No internet service)\n",
    "16. Contract: The contract term of the customer (Month-to-month, One year, Two years)\n",
    "17. PaperlessBilling: Whether the customer has paperless billing or not (Yes, No)\n",
    "18. PaymentMethod: The customer’s payment method (Electronic check, Mailed check, Bank transfer (automatic), Credit card (automatic))\n",
    "19. MonthlyCharges: The amount charged to the customer monthly\n",
    "20. TotalCharges: The total amount charged to the customer\n",
    "21. Churn: Whether the customer churned or not (Yes or No) : 이탈 여부"
   ]
  },
  {
   "cell_type": "markdown",
   "metadata": {
    "id": "fzXI1Ty4zt52"
   },
   "source": [
    "# #1. 필요 라이브러리 임포트 및 파일 읽어오기"
   ]
  },
  {
   "cell_type": "code",
   "execution_count": 3,
   "metadata": {
    "id": "AwQq6UUFzt54"
   },
   "outputs": [],
   "source": [
    "import numpy as np\n"
   ]
  },
  {
   "cell_type": "code",
   "execution_count": 5,
   "metadata": {
    "id": "EMZobYP2zt57"
   },
   "outputs": [],
   "source": [
    "import pandas as pd\n"
   ]
  },
  {
   "cell_type": "markdown",
   "metadata": {
    "id": "lPQqI6x-zt58"
   },
   "source": [
    "## CSV 파일 데이터 읽어오기"
   ]
  },
  {
   "cell_type": "code",
   "execution_count": 202,
   "metadata": {
    "id": "JtlO-NTgzt59",
    "scrolled": true
   },
   "outputs": [],
   "source": [
    "df = pd.read_csv('./data/cust_data_v1.csv')"
   ]
  },
  {
   "cell_type": "code",
   "execution_count": 204,
   "metadata": {
    "colab": {
     "base_uri": "https://localhost:8080/",
     "height": 600
    },
    "id": "JQYJhu9Bzt5-",
    "outputId": "67f98101-18a0-44a6-990e-5e107cc73280",
    "scrolled": true
   },
   "outputs": [
    {
     "data": {
      "text/html": [
       "<div>\n",
       "<style scoped>\n",
       "    .dataframe tbody tr th:only-of-type {\n",
       "        vertical-align: middle;\n",
       "    }\n",
       "\n",
       "    .dataframe tbody tr th {\n",
       "        vertical-align: top;\n",
       "    }\n",
       "\n",
       "    .dataframe thead th {\n",
       "        text-align: right;\n",
       "    }\n",
       "</style>\n",
       "<table border=\"1\" class=\"dataframe\">\n",
       "  <thead>\n",
       "    <tr style=\"text-align: right;\">\n",
       "      <th></th>\n",
       "      <th>customerID</th>\n",
       "      <th>gender</th>\n",
       "      <th>SeniorCitizen</th>\n",
       "      <th>Partner</th>\n",
       "      <th>Dependents</th>\n",
       "      <th>tenure</th>\n",
       "      <th>PhoneService</th>\n",
       "      <th>MultipleLines</th>\n",
       "      <th>InternetService</th>\n",
       "      <th>OnlineSecurity</th>\n",
       "      <th>...</th>\n",
       "      <th>DeviceProtection</th>\n",
       "      <th>TechSupport</th>\n",
       "      <th>StreamingTV</th>\n",
       "      <th>StreamingMovies</th>\n",
       "      <th>Contract</th>\n",
       "      <th>PaperlessBilling</th>\n",
       "      <th>PaymentMethod</th>\n",
       "      <th>MonthlyCharges</th>\n",
       "      <th>TotalCharges</th>\n",
       "      <th>Churn</th>\n",
       "    </tr>\n",
       "  </thead>\n",
       "  <tbody>\n",
       "    <tr>\n",
       "      <th>0</th>\n",
       "      <td>7590-VHVEG</td>\n",
       "      <td>NaN</td>\n",
       "      <td>0.0</td>\n",
       "      <td>Yes</td>\n",
       "      <td>No</td>\n",
       "      <td>1</td>\n",
       "      <td>No</td>\n",
       "      <td>No phone service</td>\n",
       "      <td>DSL</td>\n",
       "      <td>No</td>\n",
       "      <td>...</td>\n",
       "      <td>No</td>\n",
       "      <td>No</td>\n",
       "      <td>No</td>\n",
       "      <td>No</td>\n",
       "      <td>NaN</td>\n",
       "      <td>Yes</td>\n",
       "      <td>Electronic check</td>\n",
       "      <td>29.85</td>\n",
       "      <td>29.85</td>\n",
       "      <td>No</td>\n",
       "    </tr>\n",
       "    <tr>\n",
       "      <th>1</th>\n",
       "      <td>5575-GNVDE</td>\n",
       "      <td>Male</td>\n",
       "      <td>0.0</td>\n",
       "      <td>No</td>\n",
       "      <td>No</td>\n",
       "      <td>34</td>\n",
       "      <td>Yes</td>\n",
       "      <td>No</td>\n",
       "      <td>DSL</td>\n",
       "      <td>Yes</td>\n",
       "      <td>...</td>\n",
       "      <td>Yes</td>\n",
       "      <td>No</td>\n",
       "      <td>No</td>\n",
       "      <td>No</td>\n",
       "      <td>One year</td>\n",
       "      <td>No</td>\n",
       "      <td>Mailed check</td>\n",
       "      <td>56.95</td>\n",
       "      <td>1889.5</td>\n",
       "      <td>No</td>\n",
       "    </tr>\n",
       "    <tr>\n",
       "      <th>2</th>\n",
       "      <td>3668-QPYBK</td>\n",
       "      <td>Male</td>\n",
       "      <td>0.0</td>\n",
       "      <td>No</td>\n",
       "      <td>No</td>\n",
       "      <td>2</td>\n",
       "      <td>Yes</td>\n",
       "      <td>No</td>\n",
       "      <td>DSL</td>\n",
       "      <td>Yes</td>\n",
       "      <td>...</td>\n",
       "      <td>NaN</td>\n",
       "      <td>No</td>\n",
       "      <td>No</td>\n",
       "      <td>No</td>\n",
       "      <td>Month-to-month</td>\n",
       "      <td>Yes</td>\n",
       "      <td>Mailed check</td>\n",
       "      <td>53.85</td>\n",
       "      <td>108.15</td>\n",
       "      <td>Yes</td>\n",
       "    </tr>\n",
       "    <tr>\n",
       "      <th>3</th>\n",
       "      <td>7795-CFOCW</td>\n",
       "      <td>Male</td>\n",
       "      <td>0.0</td>\n",
       "      <td>No</td>\n",
       "      <td>No</td>\n",
       "      <td>45</td>\n",
       "      <td>No</td>\n",
       "      <td>No phone service</td>\n",
       "      <td>DSL</td>\n",
       "      <td>Yes</td>\n",
       "      <td>...</td>\n",
       "      <td>NaN</td>\n",
       "      <td>Yes</td>\n",
       "      <td>No</td>\n",
       "      <td>No</td>\n",
       "      <td>One year</td>\n",
       "      <td>No</td>\n",
       "      <td>Bank transfer (automatic)</td>\n",
       "      <td>42.30</td>\n",
       "      <td>1840.75</td>\n",
       "      <td>No</td>\n",
       "    </tr>\n",
       "    <tr>\n",
       "      <th>4</th>\n",
       "      <td>9237-HQITU</td>\n",
       "      <td>Female</td>\n",
       "      <td>0.0</td>\n",
       "      <td>No</td>\n",
       "      <td>No</td>\n",
       "      <td>2</td>\n",
       "      <td>Yes</td>\n",
       "      <td>No</td>\n",
       "      <td>Fiber optic</td>\n",
       "      <td>No</td>\n",
       "      <td>...</td>\n",
       "      <td>NaN</td>\n",
       "      <td>No</td>\n",
       "      <td>No</td>\n",
       "      <td>No</td>\n",
       "      <td>Month-to-month</td>\n",
       "      <td>Yes</td>\n",
       "      <td>Electronic check</td>\n",
       "      <td>70.70</td>\n",
       "      <td>151.65</td>\n",
       "      <td>Yes</td>\n",
       "    </tr>\n",
       "    <tr>\n",
       "      <th>...</th>\n",
       "      <td>...</td>\n",
       "      <td>...</td>\n",
       "      <td>...</td>\n",
       "      <td>...</td>\n",
       "      <td>...</td>\n",
       "      <td>...</td>\n",
       "      <td>...</td>\n",
       "      <td>...</td>\n",
       "      <td>...</td>\n",
       "      <td>...</td>\n",
       "      <td>...</td>\n",
       "      <td>...</td>\n",
       "      <td>...</td>\n",
       "      <td>...</td>\n",
       "      <td>...</td>\n",
       "      <td>...</td>\n",
       "      <td>...</td>\n",
       "      <td>...</td>\n",
       "      <td>...</td>\n",
       "      <td>...</td>\n",
       "      <td>...</td>\n",
       "    </tr>\n",
       "    <tr>\n",
       "      <th>7038</th>\n",
       "      <td>6840-RESVB</td>\n",
       "      <td>Male</td>\n",
       "      <td>0.0</td>\n",
       "      <td>Yes</td>\n",
       "      <td>Yes</td>\n",
       "      <td>24</td>\n",
       "      <td>Yes</td>\n",
       "      <td>Yes</td>\n",
       "      <td>DSL</td>\n",
       "      <td>Yes</td>\n",
       "      <td>...</td>\n",
       "      <td>Yes</td>\n",
       "      <td>Yes</td>\n",
       "      <td>Yes</td>\n",
       "      <td>Yes</td>\n",
       "      <td>One year</td>\n",
       "      <td>Yes</td>\n",
       "      <td>Mailed check</td>\n",
       "      <td>84.80</td>\n",
       "      <td>1990.5</td>\n",
       "      <td>No</td>\n",
       "    </tr>\n",
       "    <tr>\n",
       "      <th>7039</th>\n",
       "      <td>2234-XADUH</td>\n",
       "      <td>Female</td>\n",
       "      <td>0.0</td>\n",
       "      <td>Yes</td>\n",
       "      <td>Yes</td>\n",
       "      <td>72</td>\n",
       "      <td>Yes</td>\n",
       "      <td>Yes</td>\n",
       "      <td>Fiber optic</td>\n",
       "      <td>No</td>\n",
       "      <td>...</td>\n",
       "      <td>Yes</td>\n",
       "      <td>No</td>\n",
       "      <td>Yes</td>\n",
       "      <td>Yes</td>\n",
       "      <td>One year</td>\n",
       "      <td>Yes</td>\n",
       "      <td>Credit card (automatic)</td>\n",
       "      <td>103.20</td>\n",
       "      <td>7362.9</td>\n",
       "      <td>No</td>\n",
       "    </tr>\n",
       "    <tr>\n",
       "      <th>7040</th>\n",
       "      <td>4801-JZAZL</td>\n",
       "      <td>Female</td>\n",
       "      <td>0.0</td>\n",
       "      <td>Yes</td>\n",
       "      <td>Yes</td>\n",
       "      <td>11</td>\n",
       "      <td>No</td>\n",
       "      <td>No phone service</td>\n",
       "      <td>DSL</td>\n",
       "      <td>Yes</td>\n",
       "      <td>...</td>\n",
       "      <td>No</td>\n",
       "      <td>No</td>\n",
       "      <td>No</td>\n",
       "      <td>No</td>\n",
       "      <td>Month-to-month</td>\n",
       "      <td>Yes</td>\n",
       "      <td>Electronic check</td>\n",
       "      <td>29.60</td>\n",
       "      <td>346.45</td>\n",
       "      <td>No</td>\n",
       "    </tr>\n",
       "    <tr>\n",
       "      <th>7041</th>\n",
       "      <td>8361-LTMKD</td>\n",
       "      <td>Male</td>\n",
       "      <td>1.0</td>\n",
       "      <td>Yes</td>\n",
       "      <td>No</td>\n",
       "      <td>4</td>\n",
       "      <td>Yes</td>\n",
       "      <td>Yes</td>\n",
       "      <td>Fiber optic</td>\n",
       "      <td>No</td>\n",
       "      <td>...</td>\n",
       "      <td>No</td>\n",
       "      <td>No</td>\n",
       "      <td>No</td>\n",
       "      <td>No</td>\n",
       "      <td>Month-to-month</td>\n",
       "      <td>Yes</td>\n",
       "      <td>Mailed check</td>\n",
       "      <td>74.40</td>\n",
       "      <td>306.6</td>\n",
       "      <td>Yes</td>\n",
       "    </tr>\n",
       "    <tr>\n",
       "      <th>7042</th>\n",
       "      <td>3186-AJIEK</td>\n",
       "      <td>NaN</td>\n",
       "      <td>0.0</td>\n",
       "      <td>No</td>\n",
       "      <td>No</td>\n",
       "      <td>66</td>\n",
       "      <td>Yes</td>\n",
       "      <td>No</td>\n",
       "      <td>Fiber optic</td>\n",
       "      <td>Yes</td>\n",
       "      <td>...</td>\n",
       "      <td>Yes</td>\n",
       "      <td>Yes</td>\n",
       "      <td>Yes</td>\n",
       "      <td>Yes</td>\n",
       "      <td>Two year</td>\n",
       "      <td>Yes</td>\n",
       "      <td>Bank transfer (automatic)</td>\n",
       "      <td>105.65</td>\n",
       "      <td>6844.5</td>\n",
       "      <td>No</td>\n",
       "    </tr>\n",
       "  </tbody>\n",
       "</table>\n",
       "<p>7043 rows × 21 columns</p>\n",
       "</div>"
      ],
      "text/plain": [
       "      customerID  gender  SeniorCitizen Partner Dependents  tenure  \\\n",
       "0     7590-VHVEG     NaN            0.0     Yes         No       1   \n",
       "1     5575-GNVDE    Male            0.0      No         No      34   \n",
       "2     3668-QPYBK    Male            0.0      No         No       2   \n",
       "3     7795-CFOCW    Male            0.0      No         No      45   \n",
       "4     9237-HQITU  Female            0.0      No         No       2   \n",
       "...          ...     ...            ...     ...        ...     ...   \n",
       "7038  6840-RESVB    Male            0.0     Yes        Yes      24   \n",
       "7039  2234-XADUH  Female            0.0     Yes        Yes      72   \n",
       "7040  4801-JZAZL  Female            0.0     Yes        Yes      11   \n",
       "7041  8361-LTMKD    Male            1.0     Yes         No       4   \n",
       "7042  3186-AJIEK     NaN            0.0      No         No      66   \n",
       "\n",
       "     PhoneService     MultipleLines InternetService OnlineSecurity  ...  \\\n",
       "0              No  No phone service             DSL             No  ...   \n",
       "1             Yes                No             DSL            Yes  ...   \n",
       "2             Yes                No             DSL            Yes  ...   \n",
       "3              No  No phone service             DSL            Yes  ...   \n",
       "4             Yes                No     Fiber optic             No  ...   \n",
       "...           ...               ...             ...            ...  ...   \n",
       "7038          Yes               Yes             DSL            Yes  ...   \n",
       "7039          Yes               Yes     Fiber optic             No  ...   \n",
       "7040           No  No phone service             DSL            Yes  ...   \n",
       "7041          Yes               Yes     Fiber optic             No  ...   \n",
       "7042          Yes                No     Fiber optic            Yes  ...   \n",
       "\n",
       "     DeviceProtection TechSupport StreamingTV StreamingMovies        Contract  \\\n",
       "0                  No          No          No              No             NaN   \n",
       "1                 Yes          No          No              No        One year   \n",
       "2                 NaN          No          No              No  Month-to-month   \n",
       "3                 NaN         Yes          No              No        One year   \n",
       "4                 NaN          No          No              No  Month-to-month   \n",
       "...               ...         ...         ...             ...             ...   \n",
       "7038              Yes         Yes         Yes             Yes        One year   \n",
       "7039              Yes          No         Yes             Yes        One year   \n",
       "7040               No          No          No              No  Month-to-month   \n",
       "7041               No          No          No              No  Month-to-month   \n",
       "7042              Yes         Yes         Yes             Yes        Two year   \n",
       "\n",
       "     PaperlessBilling              PaymentMethod MonthlyCharges  TotalCharges  \\\n",
       "0                 Yes           Electronic check          29.85         29.85   \n",
       "1                  No               Mailed check          56.95        1889.5   \n",
       "2                 Yes               Mailed check          53.85        108.15   \n",
       "3                  No  Bank transfer (automatic)          42.30       1840.75   \n",
       "4                 Yes           Electronic check          70.70        151.65   \n",
       "...               ...                        ...            ...           ...   \n",
       "7038              Yes               Mailed check          84.80        1990.5   \n",
       "7039              Yes    Credit card (automatic)         103.20        7362.9   \n",
       "7040              Yes           Electronic check          29.60        346.45   \n",
       "7041              Yes               Mailed check          74.40         306.6   \n",
       "7042              Yes  Bank transfer (automatic)         105.65        6844.5   \n",
       "\n",
       "     Churn  \n",
       "0       No  \n",
       "1       No  \n",
       "2      Yes  \n",
       "3       No  \n",
       "4      Yes  \n",
       "...    ...  \n",
       "7038    No  \n",
       "7039    No  \n",
       "7040    No  \n",
       "7041   Yes  \n",
       "7042    No  \n",
       "\n",
       "[7043 rows x 21 columns]"
      ]
     },
     "execution_count": 204,
     "metadata": {},
     "output_type": "execute_result"
    }
   ],
   "source": [
    "# 읽어온 데이터프레임 확인하기\n",
    "df"
   ]
  },
  {
   "cell_type": "markdown",
   "metadata": {
    "id": "dY2h_-WQzt5-"
   },
   "source": [
    "# #2. 탐색적 데이터 분석"
   ]
  },
  {
   "cell_type": "markdown",
   "metadata": {
    "id": "AhWFhfq3zt5_"
   },
   "source": [
    "## 데이터 탐색하기"
   ]
  },
  {
   "cell_type": "code",
   "execution_count": null,
   "metadata": {
    "colab": {
     "base_uri": "https://localhost:8080/",
     "height": 342
    },
    "id": "_fhnLu_Tzt5_",
    "outputId": "90361046-01c6-4056-c044-67d015646aad"
   },
   "outputs": [],
   "source": []
  },
  {
   "cell_type": "code",
   "execution_count": null,
   "metadata": {
    "colab": {
     "base_uri": "https://localhost:8080/",
     "height": 325
    },
    "id": "uRcoM31azt5_",
    "outputId": "27e05df6-0601-458d-f559-001260a3220c"
   },
   "outputs": [],
   "source": []
  },
  {
   "cell_type": "markdown",
   "metadata": {
    "id": "VJYiz0u_zt6A"
   },
   "source": [
    "## 자료구조 파악"
   ]
  },
  {
   "cell_type": "code",
   "execution_count": 206,
   "metadata": {
    "colab": {
     "base_uri": "https://localhost:8080/"
    },
    "id": "QkjgjO1Wzt6A",
    "outputId": "3bb38dd2-bea5-4418-fe09-f35781bf53f0",
    "scrolled": true
   },
   "outputs": [
    {
     "name": "stdout",
     "output_type": "stream",
     "text": [
      "<class 'pandas.core.frame.DataFrame'>\n",
      "RangeIndex: 7043 entries, 0 to 7042\n",
      "Data columns (total 21 columns):\n",
      " #   Column            Non-Null Count  Dtype  \n",
      "---  ------            --------------  -----  \n",
      " 0   customerID        7043 non-null   object \n",
      " 1   gender            7034 non-null   object \n",
      " 2   SeniorCitizen     7042 non-null   float64\n",
      " 3   Partner           7043 non-null   object \n",
      " 4   Dependents        7041 non-null   object \n",
      " 5   tenure            7043 non-null   int64  \n",
      " 6   PhoneService      7040 non-null   object \n",
      " 7   MultipleLines     7043 non-null   object \n",
      " 8   InternetService   7043 non-null   object \n",
      " 9   OnlineSecurity    7043 non-null   object \n",
      " 10  OnlineBackup      7043 non-null   object \n",
      " 11  DeviceProtection  3580 non-null   object \n",
      " 12  TechSupport       7043 non-null   object \n",
      " 13  StreamingTV       7043 non-null   object \n",
      " 14  StreamingMovies   7043 non-null   object \n",
      " 15  Contract          7042 non-null   object \n",
      " 16  PaperlessBilling  7043 non-null   object \n",
      " 17  PaymentMethod     7042 non-null   object \n",
      " 18  MonthlyCharges    7042 non-null   float64\n",
      " 19  TotalCharges      7043 non-null   object \n",
      " 20  Churn             7043 non-null   object \n",
      "dtypes: float64(2), int64(1), object(18)\n",
      "memory usage: 1.1+ MB\n"
     ]
    }
   ],
   "source": [
    "df.info()"
   ]
  },
  {
   "cell_type": "markdown",
   "metadata": {
    "id": "Stjl-h0ozt6A"
   },
   "source": [
    "## 데이터 타입, 인덱스, 컬럼명, Values 확인"
   ]
  },
  {
   "cell_type": "code",
   "execution_count": 209,
   "metadata": {
    "colab": {
     "base_uri": "https://localhost:8080/"
    },
    "id": "F4vmCj_1zt6B",
    "outputId": "bb5abedd-bbd5-485b-85a5-cf769f02c480",
    "scrolled": true
   },
   "outputs": [
    {
     "name": "stdout",
     "output_type": "stream",
     "text": [
      "customerID                7590-VHVEG\n",
      "gender                           NaN\n",
      "SeniorCitizen                    0.0\n",
      "Partner                          Yes\n",
      "Dependents                        No\n",
      "tenure                             1\n",
      "PhoneService                      No\n",
      "MultipleLines       No phone service\n",
      "InternetService                  DSL\n",
      "OnlineSecurity                    No\n",
      "OnlineBackup                     Yes\n",
      "DeviceProtection                  No\n",
      "TechSupport                       No\n",
      "StreamingTV                       No\n",
      "StreamingMovies                   No\n",
      "Contract                         NaN\n",
      "PaperlessBilling                 Yes\n",
      "PaymentMethod       Electronic check\n",
      "MonthlyCharges                 29.85\n",
      "TotalCharges                   29.85\n",
      "Churn                             No\n",
      "Name: 0, dtype: object\n",
      "customerID            5575-GNVDE\n",
      "gender                      Male\n",
      "SeniorCitizen                0.0\n",
      "Partner                       No\n",
      "Dependents                    No\n",
      "tenure                        34\n",
      "PhoneService                 Yes\n",
      "MultipleLines                 No\n",
      "InternetService              DSL\n",
      "OnlineSecurity               Yes\n",
      "OnlineBackup                  No\n",
      "DeviceProtection             Yes\n",
      "TechSupport                   No\n",
      "StreamingTV                   No\n",
      "StreamingMovies               No\n",
      "Contract                One year\n",
      "PaperlessBilling              No\n",
      "PaymentMethod       Mailed check\n",
      "MonthlyCharges             56.95\n",
      "TotalCharges              1889.5\n",
      "Churn                         No\n",
      "Name: 1, dtype: object\n",
      "customerID              3668-QPYBK\n",
      "gender                        Male\n",
      "SeniorCitizen                  0.0\n",
      "Partner                         No\n",
      "Dependents                      No\n",
      "tenure                           2\n",
      "PhoneService                   Yes\n",
      "MultipleLines                   No\n",
      "InternetService                DSL\n",
      "OnlineSecurity                 Yes\n",
      "OnlineBackup                   Yes\n",
      "DeviceProtection               NaN\n",
      "TechSupport                     No\n",
      "StreamingTV                     No\n",
      "StreamingMovies                 No\n",
      "Contract            Month-to-month\n",
      "PaperlessBilling               Yes\n",
      "PaymentMethod         Mailed check\n",
      "MonthlyCharges               53.85\n",
      "TotalCharges                108.15\n",
      "Churn                          Yes\n",
      "Name: 2, dtype: object\n",
      "customerID                         7795-CFOCW\n",
      "gender                                   Male\n",
      "SeniorCitizen                             0.0\n",
      "Partner                                    No\n",
      "Dependents                                 No\n",
      "tenure                                     45\n",
      "PhoneService                               No\n",
      "MultipleLines                No phone service\n",
      "InternetService                           DSL\n",
      "OnlineSecurity                            Yes\n",
      "OnlineBackup                               No\n",
      "DeviceProtection                          NaN\n",
      "TechSupport                               Yes\n",
      "StreamingTV                                No\n",
      "StreamingMovies                            No\n",
      "Contract                             One year\n",
      "PaperlessBilling                           No\n",
      "PaymentMethod       Bank transfer (automatic)\n",
      "MonthlyCharges                           42.3\n",
      "TotalCharges                          1840.75\n",
      "Churn                                      No\n",
      "Name: 3, dtype: object\n",
      "customerID                9237-HQITU\n",
      "gender                        Female\n",
      "SeniorCitizen                    0.0\n",
      "Partner                           No\n",
      "Dependents                        No\n",
      "tenure                             2\n",
      "PhoneService                     Yes\n",
      "MultipleLines                     No\n",
      "InternetService          Fiber optic\n",
      "OnlineSecurity                    No\n",
      "OnlineBackup                      No\n",
      "DeviceProtection                 NaN\n",
      "TechSupport                       No\n",
      "StreamingTV                       No\n",
      "StreamingMovies                   No\n",
      "Contract              Month-to-month\n",
      "PaperlessBilling                 Yes\n",
      "PaymentMethod       Electronic check\n",
      "MonthlyCharges                  70.7\n",
      "TotalCharges                  151.65\n",
      "Churn                            Yes\n",
      "Name: 4, dtype: object\n",
      "customerID                9305-CDSKC\n",
      "gender                        Female\n",
      "SeniorCitizen                    0.0\n",
      "Partner                           No\n",
      "Dependents                        No\n",
      "tenure                             8\n",
      "PhoneService                     Yes\n",
      "MultipleLines                    Yes\n",
      "InternetService          Fiber optic\n",
      "OnlineSecurity                    No\n",
      "OnlineBackup                      No\n",
      "DeviceProtection                 NaN\n",
      "TechSupport                       No\n",
      "StreamingTV                      Yes\n",
      "StreamingMovies                  Yes\n",
      "Contract              Month-to-month\n",
      "PaperlessBilling                 Yes\n",
      "PaymentMethod       Electronic check\n",
      "MonthlyCharges                 99.65\n",
      "TotalCharges                   820.5\n",
      "Churn                            Yes\n",
      "Name: 5, dtype: object\n",
      "customerID                       1452-KIOVK\n",
      "gender                                 Male\n",
      "SeniorCitizen                           0.0\n",
      "Partner                                  No\n",
      "Dependents                              Yes\n",
      "tenure                                   22\n",
      "PhoneService                            Yes\n",
      "MultipleLines                           Yes\n",
      "InternetService                 Fiber optic\n",
      "OnlineSecurity                           No\n",
      "OnlineBackup                            Yes\n",
      "DeviceProtection                        NaN\n",
      "TechSupport                              No\n",
      "StreamingTV                             Yes\n",
      "StreamingMovies                          No\n",
      "Contract                     Month-to-month\n",
      "PaperlessBilling                        Yes\n",
      "PaymentMethod       Credit card (automatic)\n",
      "MonthlyCharges                         89.1\n",
      "TotalCharges                         1949.4\n",
      "Churn                                    No\n",
      "Name: 6, dtype: object\n",
      "customerID                6713-OKOMC\n",
      "gender                        Female\n",
      "SeniorCitizen                    0.0\n",
      "Partner                           No\n",
      "Dependents                        No\n",
      "tenure                            10\n",
      "PhoneService                      No\n",
      "MultipleLines       No phone service\n",
      "InternetService                  DSL\n",
      "OnlineSecurity                   Yes\n",
      "OnlineBackup                      No\n",
      "DeviceProtection                 NaN\n",
      "TechSupport                       No\n",
      "StreamingTV                       No\n",
      "StreamingMovies                   No\n",
      "Contract              Month-to-month\n",
      "PaperlessBilling                  No\n",
      "PaymentMethod           Mailed check\n",
      "MonthlyCharges                 29.75\n",
      "TotalCharges                   301.9\n",
      "Churn                             No\n",
      "Name: 7, dtype: object\n",
      "customerID                7892-POOKP\n",
      "gender                        Female\n",
      "SeniorCitizen                    0.0\n",
      "Partner                          Yes\n",
      "Dependents                        No\n",
      "tenure                            28\n",
      "PhoneService                     Yes\n",
      "MultipleLines                    Yes\n",
      "InternetService          Fiber optic\n",
      "OnlineSecurity                    No\n",
      "OnlineBackup                      No\n",
      "DeviceProtection                 NaN\n",
      "TechSupport                      Yes\n",
      "StreamingTV                      Yes\n",
      "StreamingMovies                  Yes\n",
      "Contract              Month-to-month\n",
      "PaperlessBilling                 Yes\n",
      "PaymentMethod       Electronic check\n",
      "MonthlyCharges                 104.8\n",
      "TotalCharges                 3046.05\n",
      "Churn                            Yes\n",
      "Name: 8, dtype: object\n",
      "customerID                         6388-TABGU\n",
      "gender                                   Male\n",
      "SeniorCitizen                             0.0\n",
      "Partner                                    No\n",
      "Dependents                                Yes\n",
      "tenure                                     62\n",
      "PhoneService                              Yes\n",
      "MultipleLines                              No\n",
      "InternetService                           DSL\n",
      "OnlineSecurity                            Yes\n",
      "OnlineBackup                              Yes\n",
      "DeviceProtection                          NaN\n",
      "TechSupport                                No\n",
      "StreamingTV                                No\n",
      "StreamingMovies                            No\n",
      "Contract                             One year\n",
      "PaperlessBilling                           No\n",
      "PaymentMethod       Bank transfer (automatic)\n",
      "MonthlyCharges                          56.15\n",
      "TotalCharges                          3487.95\n",
      "Churn                                      No\n",
      "Name: 9, dtype: object\n",
      "customerID              9763-GRSKD\n",
      "gender                        Male\n",
      "SeniorCitizen                  0.0\n",
      "Partner                        Yes\n",
      "Dependents                     Yes\n",
      "tenure                          13\n",
      "PhoneService                   Yes\n",
      "MultipleLines                   No\n",
      "InternetService                DSL\n",
      "OnlineSecurity                 Yes\n",
      "OnlineBackup                    No\n",
      "DeviceProtection               NaN\n",
      "TechSupport                     No\n",
      "StreamingTV                     No\n",
      "StreamingMovies                 No\n",
      "Contract            Month-to-month\n",
      "PaperlessBilling               Yes\n",
      "PaymentMethod         Mailed check\n",
      "MonthlyCharges               49.95\n",
      "TotalCharges                587.45\n",
      "Churn                           No\n",
      "Name: 10, dtype: object\n",
      "customerID                       7469-LKBCI\n",
      "gender                                 Male\n",
      "SeniorCitizen                           0.0\n",
      "Partner                                  No\n",
      "Dependents                               No\n",
      "tenure                                   16\n",
      "PhoneService                            Yes\n",
      "MultipleLines                            No\n",
      "InternetService                          No\n",
      "OnlineSecurity          No internet service\n",
      "OnlineBackup            No internet service\n",
      "DeviceProtection        No internet service\n",
      "TechSupport             No internet service\n",
      "StreamingTV             No internet service\n",
      "StreamingMovies         No internet service\n",
      "Contract                           Two year\n",
      "PaperlessBilling                         No\n",
      "PaymentMethod       Credit card (automatic)\n",
      "MonthlyCharges                        18.95\n",
      "TotalCharges                          326.8\n",
      "Churn                                    No\n",
      "Name: 11, dtype: object\n",
      "customerID                       8091-TTVAX\n",
      "gender                                 Male\n",
      "SeniorCitizen                           0.0\n",
      "Partner                                 Yes\n",
      "Dependents                               No\n",
      "tenure                                   58\n",
      "PhoneService                            Yes\n",
      "MultipleLines                           Yes\n",
      "InternetService                 Fiber optic\n",
      "OnlineSecurity                           No\n",
      "OnlineBackup                             No\n",
      "DeviceProtection                        Yes\n",
      "TechSupport                              No\n",
      "StreamingTV                             Yes\n",
      "StreamingMovies                         Yes\n",
      "Contract                           One year\n",
      "PaperlessBilling                         No\n",
      "PaymentMethod       Credit card (automatic)\n",
      "MonthlyCharges                       100.35\n",
      "TotalCharges                         5681.1\n",
      "Churn                                    No\n",
      "Name: 12, dtype: object\n",
      "customerID                         0280-XJGEX\n",
      "gender                                   Male\n",
      "SeniorCitizen                             0.0\n",
      "Partner                                    No\n",
      "Dependents                                 No\n",
      "tenure                                     49\n",
      "PhoneService                              Yes\n",
      "MultipleLines                             Yes\n",
      "InternetService                   Fiber optic\n",
      "OnlineSecurity                             No\n",
      "OnlineBackup                              Yes\n",
      "DeviceProtection                          Yes\n",
      "TechSupport                                No\n",
      "StreamingTV                               Yes\n",
      "StreamingMovies                           Yes\n",
      "Contract                       Month-to-month\n",
      "PaperlessBilling                          Yes\n",
      "PaymentMethod       Bank transfer (automatic)\n",
      "MonthlyCharges                          103.7\n",
      "TotalCharges                           5036.3\n",
      "Churn                                     Yes\n",
      "Name: 13, dtype: object\n",
      "customerID                5129-JLPIS\n",
      "gender                          Male\n",
      "SeniorCitizen                    0.0\n",
      "Partner                           No\n",
      "Dependents                        No\n",
      "tenure                            25\n",
      "PhoneService                     Yes\n",
      "MultipleLines                     No\n",
      "InternetService          Fiber optic\n",
      "OnlineSecurity                   Yes\n",
      "OnlineBackup                      No\n",
      "DeviceProtection                 Yes\n",
      "TechSupport                      Yes\n",
      "StreamingTV                      Yes\n",
      "StreamingMovies                  Yes\n",
      "Contract              Month-to-month\n",
      "PaperlessBilling                 Yes\n",
      "PaymentMethod       Electronic check\n",
      "MonthlyCharges                 105.5\n",
      "TotalCharges                 2686.05\n",
      "Churn                             No\n",
      "Name: 14, dtype: object\n",
      "customerID                       3655-SNQYZ\n",
      "gender                               Female\n",
      "SeniorCitizen                           0.0\n",
      "Partner                                 Yes\n",
      "Dependents                              Yes\n",
      "tenure                                   69\n",
      "PhoneService                            Yes\n",
      "MultipleLines                           Yes\n",
      "InternetService                 Fiber optic\n",
      "OnlineSecurity                          Yes\n",
      "OnlineBackup                            Yes\n",
      "DeviceProtection                        Yes\n",
      "TechSupport                             Yes\n",
      "StreamingTV                             Yes\n",
      "StreamingMovies                         Yes\n",
      "Contract                           Two year\n",
      "PaperlessBilling                         No\n",
      "PaymentMethod       Credit card (automatic)\n",
      "MonthlyCharges                       113.25\n",
      "TotalCharges                        7895.15\n",
      "Churn                                    No\n",
      "Name: 15, dtype: object\n",
      "customerID                   8191-XWSZG\n",
      "gender                           Female\n",
      "SeniorCitizen                       0.0\n",
      "Partner                              No\n",
      "Dependents                           No\n",
      "tenure                               52\n",
      "PhoneService                        Yes\n",
      "MultipleLines                        No\n",
      "InternetService                      No\n",
      "OnlineSecurity      No internet service\n",
      "OnlineBackup        No internet service\n",
      "DeviceProtection    No internet service\n",
      "TechSupport         No internet service\n",
      "StreamingTV         No internet service\n",
      "StreamingMovies     No internet service\n",
      "Contract                       One year\n",
      "PaperlessBilling                     No\n",
      "PaymentMethod              Mailed check\n",
      "MonthlyCharges                    20.65\n",
      "TotalCharges                    1022.95\n",
      "Churn                                No\n",
      "Name: 16, dtype: object\n",
      "customerID                         9959-WOFKT\n",
      "gender                                   Male\n",
      "SeniorCitizen                             0.0\n",
      "Partner                                    No\n",
      "Dependents                                Yes\n",
      "tenure                                     71\n",
      "PhoneService                              Yes\n",
      "MultipleLines                             Yes\n",
      "InternetService                   Fiber optic\n",
      "OnlineSecurity                            Yes\n",
      "OnlineBackup                               No\n",
      "DeviceProtection                          Yes\n",
      "TechSupport                                No\n",
      "StreamingTV                               Yes\n",
      "StreamingMovies                           Yes\n",
      "Contract                             Two year\n",
      "PaperlessBilling                           No\n",
      "PaymentMethod       Bank transfer (automatic)\n",
      "MonthlyCharges                          106.7\n",
      "TotalCharges                          7382.25\n",
      "Churn                                      No\n",
      "Name: 17, dtype: object\n",
      "customerID                       4190-MFLUW\n",
      "gender                               Female\n",
      "SeniorCitizen                           0.0\n",
      "Partner                                 Yes\n",
      "Dependents                              Yes\n",
      "tenure                                   10\n",
      "PhoneService                            Yes\n",
      "MultipleLines                            No\n",
      "InternetService                         DSL\n",
      "OnlineSecurity                           No\n",
      "OnlineBackup                             No\n",
      "DeviceProtection                        Yes\n",
      "TechSupport                             Yes\n",
      "StreamingTV                              No\n",
      "StreamingMovies                          No\n",
      "Contract                     Month-to-month\n",
      "PaperlessBilling                         No\n",
      "PaymentMethod       Credit card (automatic)\n",
      "MonthlyCharges                         55.2\n",
      "TotalCharges                         528.35\n",
      "Churn                                   Yes\n",
      "Name: 18, dtype: object\n",
      "customerID                4183-MYFRB\n",
      "gender                        Female\n",
      "SeniorCitizen                    0.0\n",
      "Partner                           No\n",
      "Dependents                        No\n",
      "tenure                            21\n",
      "PhoneService                     Yes\n",
      "MultipleLines                     No\n",
      "InternetService          Fiber optic\n",
      "OnlineSecurity                    No\n",
      "OnlineBackup                     Yes\n",
      "DeviceProtection                 Yes\n",
      "TechSupport                       No\n",
      "StreamingTV                       No\n",
      "StreamingMovies                  Yes\n",
      "Contract              Month-to-month\n",
      "PaperlessBilling                 Yes\n",
      "PaymentMethod       Electronic check\n",
      "MonthlyCharges                 90.05\n",
      "TotalCharges                  1862.9\n",
      "Churn                             No\n",
      "Name: 19, dtype: object\n",
      "customerID                8779-QRDMV\n",
      "gender                          Male\n",
      "SeniorCitizen                    1.0\n",
      "Partner                           No\n",
      "Dependents                        No\n",
      "tenure                             1\n",
      "PhoneService                      No\n",
      "MultipleLines       No phone service\n",
      "InternetService                  DSL\n",
      "OnlineSecurity                    No\n",
      "OnlineBackup                      No\n",
      "DeviceProtection                 Yes\n",
      "TechSupport                       No\n",
      "StreamingTV                       No\n",
      "StreamingMovies                  Yes\n",
      "Contract              Month-to-month\n",
      "PaperlessBilling                 Yes\n",
      "PaymentMethod       Electronic check\n",
      "MonthlyCharges                 39.65\n",
      "TotalCharges                   39.65\n",
      "Churn                            Yes\n",
      "Name: 20, dtype: object\n"
     ]
    }
   ],
   "source": [
    "for i in range(21):\n",
    "    print(df.loc[i])"
   ]
  },
  {
   "cell_type": "code",
   "execution_count": 211,
   "metadata": {
    "colab": {
     "base_uri": "https://localhost:8080/"
    },
    "id": "8n0g3dtmzt6B",
    "outputId": "1bcb4b0e-7385-432c-99cc-170c212a2513"
   },
   "outputs": [
    {
     "data": {
      "text/plain": [
       "Index(['customerID', 'gender', 'SeniorCitizen', 'Partner', 'Dependents',\n",
       "       'tenure', 'PhoneService', 'MultipleLines', 'InternetService',\n",
       "       'OnlineSecurity', 'OnlineBackup', 'DeviceProtection', 'TechSupport',\n",
       "       'StreamingTV', 'StreamingMovies', 'Contract', 'PaperlessBilling',\n",
       "       'PaymentMethod', 'MonthlyCharges', 'TotalCharges', 'Churn'],\n",
       "      dtype='object')"
      ]
     },
     "execution_count": 211,
     "metadata": {},
     "output_type": "execute_result"
    }
   ],
   "source": [
    "df.columns"
   ]
  },
  {
   "cell_type": "code",
   "execution_count": 213,
   "metadata": {},
   "outputs": [
    {
     "data": {
      "text/plain": [
       "gender\n",
       "Male      3552\n",
       "Female    3482\n",
       "Name: count, dtype: int64"
      ]
     },
     "execution_count": 213,
     "metadata": {},
     "output_type": "execute_result"
    }
   ],
   "source": [
    "df['gender'].value_counts() #성별 남성이 70명 더 많음"
   ]
  },
  {
   "cell_type": "code",
   "execution_count": 215,
   "metadata": {
    "colab": {
     "base_uri": "https://localhost:8080/"
    },
    "id": "XarNNK4Bzt6B",
    "outputId": "5c35d0a0-9585-4f67-aa4f-5d0ac33e65e8"
   },
   "outputs": [
    {
     "data": {
      "text/plain": [
       "SeniorCitizen\n",
       "0.0    5900\n",
       "1.0    1142\n",
       "Name: count, dtype: int64"
      ]
     },
     "execution_count": 215,
     "metadata": {},
     "output_type": "execute_result"
    }
   ],
   "source": [
    "df['SeniorCitizen'].value_counts() #고령자 여부 맞으면1, 아니면0 : 아닌사람이 4758더 많음"
   ]
  },
  {
   "cell_type": "code",
   "execution_count": 217,
   "metadata": {},
   "outputs": [
    {
     "data": {
      "text/plain": [
       "Partner\n",
       "No     3641\n",
       "Yes    3402\n",
       "Name: count, dtype: int64"
      ]
     },
     "execution_count": 217,
     "metadata": {},
     "output_type": "execute_result"
    }
   ],
   "source": [
    "df['Partner'].value_counts() #파트너가 있다/없다: 없는 사람이 239명 더 많음"
   ]
  },
  {
   "cell_type": "code",
   "execution_count": 219,
   "metadata": {},
   "outputs": [
    {
     "data": {
      "text/plain": [
       "Dependents\n",
       "No     4932\n",
       "Yes    2109\n",
       "Name: count, dtype: int64"
      ]
     },
     "execution_count": 219,
     "metadata": {},
     "output_type": "execute_result"
    }
   ],
   "source": [
    "df['Dependents'].value_counts() #부양가족 여부 있다/없다: 없는 사람이 2823 더 많다"
   ]
  },
  {
   "cell_type": "code",
   "execution_count": 221,
   "metadata": {},
   "outputs": [
    {
     "data": {
      "text/plain": [
       "(tenure\n",
       " 1     613\n",
       " 72    362\n",
       " 2     238\n",
       " 3     200\n",
       " 4     176\n",
       "      ... \n",
       " 28     57\n",
       " 39     56\n",
       " 44     51\n",
       " 36     50\n",
       " 0      11\n",
       " Name: count, Length: 73, dtype: int64,\n",
       " 32.37114865824223)"
      ]
     },
     "execution_count": 221,
     "metadata": {},
     "output_type": "execute_result"
    }
   ],
   "source": [
    "df['tenure'].value_counts(),  df['tenure'].mean() \n",
    "#서비스 사용개월수: 1개월(613),72개월(362)순으로 많고\n",
    "#36개월(50), 0개월(11)순으로 적다. 평균 개월 수는 32개월정도"
   ]
  },
  {
   "cell_type": "code",
   "execution_count": 223,
   "metadata": {},
   "outputs": [
    {
     "data": {
      "text/plain": [
       "PhoneService\n",
       "Yes    6358\n",
       "No      682\n",
       "Name: count, dtype: int64"
      ]
     },
     "execution_count": 223,
     "metadata": {},
     "output_type": "execute_result"
    }
   ],
   "source": [
    "df['PhoneService'].value_counts()\n",
    "#폰 서비스가 있다/없다: 있는 사람이 5676더 많다. 9.3배정도 차이남"
   ]
  },
  {
   "cell_type": "code",
   "execution_count": 225,
   "metadata": {},
   "outputs": [
    {
     "data": {
      "text/plain": [
       "MultipleLines\n",
       "No                  3390\n",
       "Yes                 2971\n",
       "No phone service     682\n",
       "Name: count, dtype: int64"
      ]
     },
     "execution_count": 225,
     "metadata": {},
     "output_type": "execute_result"
    }
   ],
   "source": [
    "df['MultipleLines'].value_counts()\n",
    "#MultipleLines이 있다/없다/폰서비스가 없다 "
   ]
  },
  {
   "cell_type": "code",
   "execution_count": 227,
   "metadata": {},
   "outputs": [
    {
     "data": {
      "text/plain": [
       "InternetService\n",
       "Fiber optic    3096\n",
       "DSL            2421\n",
       "No             1526\n",
       "Name: count, dtype: int64"
      ]
     },
     "execution_count": 227,
     "metadata": {},
     "output_type": "execute_result"
    }
   ],
   "source": [
    "df['InternetService'].value_counts()\n",
    "#인터넷서비스 provider Fiber optic/DSL/No 순으로 많다. No가 1526"
   ]
  },
  {
   "cell_type": "code",
   "execution_count": 229,
   "metadata": {},
   "outputs": [
    {
     "data": {
      "text/plain": [
       "OnlineSecurity\n",
       "No                     3498\n",
       "Yes                    2019\n",
       "No internet service    1526\n",
       "Name: count, dtype: int64"
      ]
     },
     "execution_count": 229,
     "metadata": {},
     "output_type": "execute_result"
    }
   ],
   "source": [
    "df['OnlineSecurity'].value_counts()\n",
    "#OnlineSecurity이 없다/있다/인터넷서비스가 없다 순으로 많다. \n",
    "#앞선 문항의 인터넷서비스 provider이 없다와 똑같은 숫자 1526"
   ]
  },
  {
   "cell_type": "code",
   "execution_count": 231,
   "metadata": {},
   "outputs": [
    {
     "data": {
      "text/plain": [
       "OnlineBackup\n",
       "No                     3088\n",
       "Yes                    2429\n",
       "No internet service    1526\n",
       "Name: count, dtype: int64"
      ]
     },
     "execution_count": 231,
     "metadata": {},
     "output_type": "execute_result"
    }
   ],
   "source": [
    "df['OnlineBackup'].value_counts()\n",
    "#OnlineBackup이 없다/있다/인터넷서비스가 없다 순으로 많다."
   ]
  },
  {
   "cell_type": "code",
   "execution_count": 233,
   "metadata": {},
   "outputs": [
    {
     "data": {
      "text/plain": [
       "DeviceProtection\n",
       "No                     1549\n",
       "Yes                    1253\n",
       "No internet service     778\n",
       "Name: count, dtype: int64"
      ]
     },
     "execution_count": 233,
     "metadata": {},
     "output_type": "execute_result"
    }
   ],
   "source": [
    "df['DeviceProtection'].value_counts()\n",
    "#DeviceProtection이 없다/있다/인터넷서비스가 없다 순으로 많다.\n",
    "#앞선 문항들의 인터넷서비스가 없다에 체크한 사람은 1526명으로 일정했는데 \n",
    "#이 항목은 778명으로 현저히 작아졌다.\n",
    "#이유가 뭘까? -결측치 (3463)가 굉장히 많음.\n",
    "#결측치가 많은 이유는? -문항 이해 어려움(device가 어떤 device인지) ,, 등"
   ]
  },
  {
   "cell_type": "code",
   "execution_count": 235,
   "metadata": {},
   "outputs": [
    {
     "data": {
      "text/plain": [
       "TechSupport\n",
       "No                     3473\n",
       "Yes                    2044\n",
       "No internet service    1526\n",
       "Name: count, dtype: int64"
      ]
     },
     "execution_count": 235,
     "metadata": {},
     "output_type": "execute_result"
    }
   ],
   "source": [
    "df['TechSupport'].value_counts()\n",
    "#TechSupport이 없다/있다/인터넷 서비스가 없다 순으로 많다."
   ]
  },
  {
   "cell_type": "code",
   "execution_count": 237,
   "metadata": {},
   "outputs": [
    {
     "data": {
      "text/plain": [
       "StreamingTV\n",
       "No                     2810\n",
       "Yes                    2707\n",
       "No internet service    1526\n",
       "Name: count, dtype: int64"
      ]
     },
     "execution_count": 237,
     "metadata": {},
     "output_type": "execute_result"
    }
   ],
   "source": [
    "df['StreamingTV'].value_counts()\n",
    "#StreamingTV이 없다/있다/인터넷 서비스가 없다 순으로 많다."
   ]
  },
  {
   "cell_type": "code",
   "execution_count": 239,
   "metadata": {},
   "outputs": [
    {
     "data": {
      "text/plain": [
       "StreamingMovies\n",
       "No                     2785\n",
       "Yes                    2732\n",
       "No internet service    1526\n",
       "Name: count, dtype: int64"
      ]
     },
     "execution_count": 239,
     "metadata": {},
     "output_type": "execute_result"
    }
   ],
   "source": [
    "df['StreamingMovies'].value_counts()\n",
    "#StreamingMovies가 없다>있다>인터넷 서비스가 없다 순으로 많다."
   ]
  },
  {
   "cell_type": "code",
   "execution_count": 241,
   "metadata": {},
   "outputs": [
    {
     "data": {
      "text/plain": [
       "Contract\n",
       "Month-to-month    3874\n",
       "Two year          1695\n",
       "One year          1473\n",
       "Name: count, dtype: int64"
      ]
     },
     "execution_count": 241,
     "metadata": {},
     "output_type": "execute_result"
    }
   ],
   "source": [
    "df['Contract'].value_counts()\n",
    "#Contract term이 달마다>2년>1년 순으로 많다"
   ]
  },
  {
   "cell_type": "code",
   "execution_count": 243,
   "metadata": {},
   "outputs": [
    {
     "data": {
      "text/plain": [
       "PaperlessBilling\n",
       "Yes    4171\n",
       "No     2872\n",
       "Name: count, dtype: int64"
      ]
     },
     "execution_count": 243,
     "metadata": {},
     "output_type": "execute_result"
    }
   ],
   "source": [
    "df['PaperlessBilling'].value_counts()\n",
    "#전자형식으로 청구서를 받는다>받지 않는다 : 1299명 더 많음"
   ]
  },
  {
   "cell_type": "code",
   "execution_count": 245,
   "metadata": {},
   "outputs": [
    {
     "data": {
      "text/plain": [
       "MonthlyCharges\n",
       "20.05     61\n",
       "19.85     45\n",
       "19.95     44\n",
       "19.90     44\n",
       "20.00     43\n",
       "          ..\n",
       "23.65      1\n",
       "114.70     1\n",
       "43.65      1\n",
       "87.80      1\n",
       "78.70      1\n",
       "Name: count, Length: 1585, dtype: int64"
      ]
     },
     "execution_count": 245,
     "metadata": {},
     "output_type": "execute_result"
    }
   ],
   "source": [
    "df['MonthlyCharges'].value_counts()\n",
    "#월별 청구금액 : 20.05가 가장 많음(61) 평균금액:64.763256\n",
    "#같은 요금을 내는 사람이 많이 없는 걸로 보임. 세분화되어있다\n"
   ]
  },
  {
   "cell_type": "code",
   "execution_count": 247,
   "metadata": {},
   "outputs": [
    {
     "data": {
      "text/plain": [
       "TotalCharges\n",
       "          11\n",
       "20.2      11\n",
       "19.75      9\n",
       "20.05      8\n",
       "19.9       8\n",
       "          ..\n",
       "6849.4     1\n",
       "692.35     1\n",
       "130.15     1\n",
       "3211.9     1\n",
       "6844.5     1\n",
       "Name: count, Length: 6531, dtype: int64"
      ]
     },
     "execution_count": 247,
     "metadata": {},
     "output_type": "execute_result"
    }
   ],
   "source": [
    "df['TotalCharges'].value_counts()\n",
    "# 총 청구금액-어떤 기간동안인지 명확하지 않음!!\n",
    "#20.2가 11명으로 가장 많은데 천 단위도 있는것으로 보아 \n",
    "#월별 요금과 총 청구금액을 헷갈렸을 가능성도 있음"
   ]
  },
  {
   "cell_type": "code",
   "execution_count": 249,
   "metadata": {},
   "outputs": [
    {
     "data": {
      "text/plain": [
       "Index([' ', '20.2', '19.75', '20.05', '19.9', '19.65', '45.3', '19.55',\n",
       "       '20.15', '20.25',\n",
       "       ...\n",
       "       '3306.85', '424.75', '6565.85', '2117.2', '203.95', '6849.4', '692.35',\n",
       "       '130.15', '3211.9', '6844.5'],\n",
       "      dtype='object', name='TotalCharges', length=6531)"
      ]
     },
     "execution_count": 249,
     "metadata": {},
     "output_type": "execute_result"
    }
   ],
   "source": [
    "df['TotalCharges'].value_counts().keys()"
   ]
  },
  {
   "cell_type": "code",
   "execution_count": 251,
   "metadata": {},
   "outputs": [
    {
     "data": {
      "text/plain": [
       "Churn\n",
       "No     5174\n",
       "Yes    1869\n",
       "Name: count, dtype: int64"
      ]
     },
     "execution_count": 251,
     "metadata": {},
     "output_type": "execute_result"
    }
   ],
   "source": [
    "df['Churn'].value_counts()\n",
    "#서비스를 이탈할 것인가 아니다>맞다 \n",
    "#이탈할 것이라 한 사람이 1869"
   ]
  },
  {
   "cell_type": "markdown",
   "metadata": {
    "id": "VYtIzNkozt6C"
   },
   "source": [
    "## Null 데이터 확인"
   ]
  },
  {
   "cell_type": "code",
   "execution_count": 254,
   "metadata": {
    "colab": {
     "base_uri": "https://localhost:8080/"
    },
    "id": "7MXtq6-Qzt6C",
    "outputId": "2ab750af-6d38-4840-e374-352ce223d1bc"
   },
   "outputs": [
    {
     "data": {
      "text/plain": [
       "customerID             0\n",
       "gender                 9\n",
       "SeniorCitizen          1\n",
       "Partner                0\n",
       "Dependents             2\n",
       "tenure                 0\n",
       "PhoneService           3\n",
       "MultipleLines          0\n",
       "InternetService        0\n",
       "OnlineSecurity         0\n",
       "OnlineBackup           0\n",
       "DeviceProtection    3463\n",
       "TechSupport            0\n",
       "StreamingTV            0\n",
       "StreamingMovies        0\n",
       "Contract               1\n",
       "PaperlessBilling       0\n",
       "PaymentMethod          1\n",
       "MonthlyCharges         1\n",
       "TotalCharges           0\n",
       "Churn                  0\n",
       "dtype: int64"
      ]
     },
     "execution_count": 254,
     "metadata": {},
     "output_type": "execute_result"
    }
   ],
   "source": [
    "df.isnull().sum()"
   ]
  },
  {
   "cell_type": "markdown",
   "metadata": {
    "id": "OUMKMO-xzt6C"
   },
   "source": [
    "## 통계 정보"
   ]
  },
  {
   "cell_type": "code",
   "execution_count": 257,
   "metadata": {
    "colab": {
     "base_uri": "https://localhost:8080/",
     "height": 300
    },
    "id": "Yv73rg6Fzt6C",
    "outputId": "c67683a9-5f26-43eb-85f9-9d45eb0005a1"
   },
   "outputs": [
    {
     "data": {
      "text/html": [
       "<div>\n",
       "<style scoped>\n",
       "    .dataframe tbody tr th:only-of-type {\n",
       "        vertical-align: middle;\n",
       "    }\n",
       "\n",
       "    .dataframe tbody tr th {\n",
       "        vertical-align: top;\n",
       "    }\n",
       "\n",
       "    .dataframe thead th {\n",
       "        text-align: right;\n",
       "    }\n",
       "</style>\n",
       "<table border=\"1\" class=\"dataframe\">\n",
       "  <thead>\n",
       "    <tr style=\"text-align: right;\">\n",
       "      <th></th>\n",
       "      <th>SeniorCitizen</th>\n",
       "      <th>tenure</th>\n",
       "      <th>MonthlyCharges</th>\n",
       "    </tr>\n",
       "  </thead>\n",
       "  <tbody>\n",
       "    <tr>\n",
       "      <th>count</th>\n",
       "      <td>7042.000000</td>\n",
       "      <td>7043.000000</td>\n",
       "      <td>7042.000000</td>\n",
       "    </tr>\n",
       "    <tr>\n",
       "      <th>mean</th>\n",
       "      <td>0.162170</td>\n",
       "      <td>32.371149</td>\n",
       "      <td>64.763256</td>\n",
       "    </tr>\n",
       "    <tr>\n",
       "      <th>std</th>\n",
       "      <td>0.368633</td>\n",
       "      <td>24.559481</td>\n",
       "      <td>30.091898</td>\n",
       "    </tr>\n",
       "    <tr>\n",
       "      <th>min</th>\n",
       "      <td>0.000000</td>\n",
       "      <td>0.000000</td>\n",
       "      <td>18.250000</td>\n",
       "    </tr>\n",
       "    <tr>\n",
       "      <th>25%</th>\n",
       "      <td>0.000000</td>\n",
       "      <td>9.000000</td>\n",
       "      <td>35.500000</td>\n",
       "    </tr>\n",
       "    <tr>\n",
       "      <th>50%</th>\n",
       "      <td>0.000000</td>\n",
       "      <td>29.000000</td>\n",
       "      <td>70.350000</td>\n",
       "    </tr>\n",
       "    <tr>\n",
       "      <th>75%</th>\n",
       "      <td>0.000000</td>\n",
       "      <td>55.000000</td>\n",
       "      <td>89.850000</td>\n",
       "    </tr>\n",
       "    <tr>\n",
       "      <th>max</th>\n",
       "      <td>1.000000</td>\n",
       "      <td>72.000000</td>\n",
       "      <td>118.750000</td>\n",
       "    </tr>\n",
       "  </tbody>\n",
       "</table>\n",
       "</div>"
      ],
      "text/plain": [
       "       SeniorCitizen       tenure  MonthlyCharges\n",
       "count    7042.000000  7043.000000     7042.000000\n",
       "mean        0.162170    32.371149       64.763256\n",
       "std         0.368633    24.559481       30.091898\n",
       "min         0.000000     0.000000       18.250000\n",
       "25%         0.000000     9.000000       35.500000\n",
       "50%         0.000000    29.000000       70.350000\n",
       "75%         0.000000    55.000000       89.850000\n",
       "max         1.000000    72.000000      118.750000"
      ]
     },
     "execution_count": 257,
     "metadata": {},
     "output_type": "execute_result"
    }
   ],
   "source": [
    "df.describe()"
   ]
  },
  {
   "cell_type": "markdown",
   "metadata": {
    "id": "GynhTmEpzt6D"
   },
   "source": [
    "# #3. 데이터 전처리 수행"
   ]
  },
  {
   "cell_type": "markdown",
   "metadata": {
    "id": "IqJ28PGuzt6D"
   },
   "source": [
    "## 자료구조 파악"
   ]
  },
  {
   "cell_type": "code",
   "execution_count": null,
   "metadata": {
    "colab": {
     "base_uri": "https://localhost:8080/"
    },
    "id": "BUl6gWF5zt6D",
    "outputId": "a18bd3b3-0b2c-4746-a510-700315b0717d"
   },
   "outputs": [],
   "source": []
  },
  {
   "cell_type": "markdown",
   "metadata": {
    "id": "lm9Px7KEzt6E"
   },
   "source": [
    "## 컬럼 삭제"
   ]
  },
  {
   "cell_type": "code",
   "execution_count": 263,
   "metadata": {
    "id": "eMLDhurCzt6E",
    "scrolled": true
   },
   "outputs": [],
   "source": [
    "#불필요한 컬럼 삭제\n",
    "del df['customerID']        \n",
    "#ID에 특별한 의미가 있지 않으므로 인텍스 숫자를 ID 대신 사용"
   ]
  },
  {
   "cell_type": "code",
   "execution_count": 265,
   "metadata": {
    "id": "l-FW2r3FPYb9",
    "scrolled": true
   },
   "outputs": [
    {
     "data": {
      "text/html": [
       "<div>\n",
       "<style scoped>\n",
       "    .dataframe tbody tr th:only-of-type {\n",
       "        vertical-align: middle;\n",
       "    }\n",
       "\n",
       "    .dataframe tbody tr th {\n",
       "        vertical-align: top;\n",
       "    }\n",
       "\n",
       "    .dataframe thead th {\n",
       "        text-align: right;\n",
       "    }\n",
       "</style>\n",
       "<table border=\"1\" class=\"dataframe\">\n",
       "  <thead>\n",
       "    <tr style=\"text-align: right;\">\n",
       "      <th></th>\n",
       "      <th>gender</th>\n",
       "      <th>SeniorCitizen</th>\n",
       "      <th>Partner</th>\n",
       "      <th>Dependents</th>\n",
       "      <th>tenure</th>\n",
       "      <th>PhoneService</th>\n",
       "      <th>MultipleLines</th>\n",
       "      <th>InternetService</th>\n",
       "      <th>OnlineSecurity</th>\n",
       "      <th>OnlineBackup</th>\n",
       "      <th>DeviceProtection</th>\n",
       "      <th>TechSupport</th>\n",
       "      <th>StreamingTV</th>\n",
       "      <th>StreamingMovies</th>\n",
       "      <th>Contract</th>\n",
       "      <th>PaperlessBilling</th>\n",
       "      <th>PaymentMethod</th>\n",
       "      <th>MonthlyCharges</th>\n",
       "      <th>TotalCharges</th>\n",
       "      <th>Churn</th>\n",
       "    </tr>\n",
       "  </thead>\n",
       "  <tbody>\n",
       "    <tr>\n",
       "      <th>0</th>\n",
       "      <td>NaN</td>\n",
       "      <td>0.0</td>\n",
       "      <td>Yes</td>\n",
       "      <td>No</td>\n",
       "      <td>1</td>\n",
       "      <td>No</td>\n",
       "      <td>No phone service</td>\n",
       "      <td>DSL</td>\n",
       "      <td>No</td>\n",
       "      <td>Yes</td>\n",
       "      <td>No</td>\n",
       "      <td>No</td>\n",
       "      <td>No</td>\n",
       "      <td>No</td>\n",
       "      <td>NaN</td>\n",
       "      <td>Yes</td>\n",
       "      <td>Electronic check</td>\n",
       "      <td>29.85</td>\n",
       "      <td>29.85</td>\n",
       "      <td>No</td>\n",
       "    </tr>\n",
       "    <tr>\n",
       "      <th>1</th>\n",
       "      <td>Male</td>\n",
       "      <td>0.0</td>\n",
       "      <td>No</td>\n",
       "      <td>No</td>\n",
       "      <td>34</td>\n",
       "      <td>Yes</td>\n",
       "      <td>No</td>\n",
       "      <td>DSL</td>\n",
       "      <td>Yes</td>\n",
       "      <td>No</td>\n",
       "      <td>Yes</td>\n",
       "      <td>No</td>\n",
       "      <td>No</td>\n",
       "      <td>No</td>\n",
       "      <td>One year</td>\n",
       "      <td>No</td>\n",
       "      <td>Mailed check</td>\n",
       "      <td>56.95</td>\n",
       "      <td>1889.5</td>\n",
       "      <td>No</td>\n",
       "    </tr>\n",
       "    <tr>\n",
       "      <th>2</th>\n",
       "      <td>Male</td>\n",
       "      <td>0.0</td>\n",
       "      <td>No</td>\n",
       "      <td>No</td>\n",
       "      <td>2</td>\n",
       "      <td>Yes</td>\n",
       "      <td>No</td>\n",
       "      <td>DSL</td>\n",
       "      <td>Yes</td>\n",
       "      <td>Yes</td>\n",
       "      <td>NaN</td>\n",
       "      <td>No</td>\n",
       "      <td>No</td>\n",
       "      <td>No</td>\n",
       "      <td>Month-to-month</td>\n",
       "      <td>Yes</td>\n",
       "      <td>Mailed check</td>\n",
       "      <td>53.85</td>\n",
       "      <td>108.15</td>\n",
       "      <td>Yes</td>\n",
       "    </tr>\n",
       "    <tr>\n",
       "      <th>3</th>\n",
       "      <td>Male</td>\n",
       "      <td>0.0</td>\n",
       "      <td>No</td>\n",
       "      <td>No</td>\n",
       "      <td>45</td>\n",
       "      <td>No</td>\n",
       "      <td>No phone service</td>\n",
       "      <td>DSL</td>\n",
       "      <td>Yes</td>\n",
       "      <td>No</td>\n",
       "      <td>NaN</td>\n",
       "      <td>Yes</td>\n",
       "      <td>No</td>\n",
       "      <td>No</td>\n",
       "      <td>One year</td>\n",
       "      <td>No</td>\n",
       "      <td>Bank transfer (automatic)</td>\n",
       "      <td>42.30</td>\n",
       "      <td>1840.75</td>\n",
       "      <td>No</td>\n",
       "    </tr>\n",
       "    <tr>\n",
       "      <th>4</th>\n",
       "      <td>Female</td>\n",
       "      <td>0.0</td>\n",
       "      <td>No</td>\n",
       "      <td>No</td>\n",
       "      <td>2</td>\n",
       "      <td>Yes</td>\n",
       "      <td>No</td>\n",
       "      <td>Fiber optic</td>\n",
       "      <td>No</td>\n",
       "      <td>No</td>\n",
       "      <td>NaN</td>\n",
       "      <td>No</td>\n",
       "      <td>No</td>\n",
       "      <td>No</td>\n",
       "      <td>Month-to-month</td>\n",
       "      <td>Yes</td>\n",
       "      <td>Electronic check</td>\n",
       "      <td>70.70</td>\n",
       "      <td>151.65</td>\n",
       "      <td>Yes</td>\n",
       "    </tr>\n",
       "    <tr>\n",
       "      <th>...</th>\n",
       "      <td>...</td>\n",
       "      <td>...</td>\n",
       "      <td>...</td>\n",
       "      <td>...</td>\n",
       "      <td>...</td>\n",
       "      <td>...</td>\n",
       "      <td>...</td>\n",
       "      <td>...</td>\n",
       "      <td>...</td>\n",
       "      <td>...</td>\n",
       "      <td>...</td>\n",
       "      <td>...</td>\n",
       "      <td>...</td>\n",
       "      <td>...</td>\n",
       "      <td>...</td>\n",
       "      <td>...</td>\n",
       "      <td>...</td>\n",
       "      <td>...</td>\n",
       "      <td>...</td>\n",
       "      <td>...</td>\n",
       "    </tr>\n",
       "    <tr>\n",
       "      <th>7038</th>\n",
       "      <td>Male</td>\n",
       "      <td>0.0</td>\n",
       "      <td>Yes</td>\n",
       "      <td>Yes</td>\n",
       "      <td>24</td>\n",
       "      <td>Yes</td>\n",
       "      <td>Yes</td>\n",
       "      <td>DSL</td>\n",
       "      <td>Yes</td>\n",
       "      <td>No</td>\n",
       "      <td>Yes</td>\n",
       "      <td>Yes</td>\n",
       "      <td>Yes</td>\n",
       "      <td>Yes</td>\n",
       "      <td>One year</td>\n",
       "      <td>Yes</td>\n",
       "      <td>Mailed check</td>\n",
       "      <td>84.80</td>\n",
       "      <td>1990.5</td>\n",
       "      <td>No</td>\n",
       "    </tr>\n",
       "    <tr>\n",
       "      <th>7039</th>\n",
       "      <td>Female</td>\n",
       "      <td>0.0</td>\n",
       "      <td>Yes</td>\n",
       "      <td>Yes</td>\n",
       "      <td>72</td>\n",
       "      <td>Yes</td>\n",
       "      <td>Yes</td>\n",
       "      <td>Fiber optic</td>\n",
       "      <td>No</td>\n",
       "      <td>Yes</td>\n",
       "      <td>Yes</td>\n",
       "      <td>No</td>\n",
       "      <td>Yes</td>\n",
       "      <td>Yes</td>\n",
       "      <td>One year</td>\n",
       "      <td>Yes</td>\n",
       "      <td>Credit card (automatic)</td>\n",
       "      <td>103.20</td>\n",
       "      <td>7362.9</td>\n",
       "      <td>No</td>\n",
       "    </tr>\n",
       "    <tr>\n",
       "      <th>7040</th>\n",
       "      <td>Female</td>\n",
       "      <td>0.0</td>\n",
       "      <td>Yes</td>\n",
       "      <td>Yes</td>\n",
       "      <td>11</td>\n",
       "      <td>No</td>\n",
       "      <td>No phone service</td>\n",
       "      <td>DSL</td>\n",
       "      <td>Yes</td>\n",
       "      <td>No</td>\n",
       "      <td>No</td>\n",
       "      <td>No</td>\n",
       "      <td>No</td>\n",
       "      <td>No</td>\n",
       "      <td>Month-to-month</td>\n",
       "      <td>Yes</td>\n",
       "      <td>Electronic check</td>\n",
       "      <td>29.60</td>\n",
       "      <td>346.45</td>\n",
       "      <td>No</td>\n",
       "    </tr>\n",
       "    <tr>\n",
       "      <th>7041</th>\n",
       "      <td>Male</td>\n",
       "      <td>1.0</td>\n",
       "      <td>Yes</td>\n",
       "      <td>No</td>\n",
       "      <td>4</td>\n",
       "      <td>Yes</td>\n",
       "      <td>Yes</td>\n",
       "      <td>Fiber optic</td>\n",
       "      <td>No</td>\n",
       "      <td>No</td>\n",
       "      <td>No</td>\n",
       "      <td>No</td>\n",
       "      <td>No</td>\n",
       "      <td>No</td>\n",
       "      <td>Month-to-month</td>\n",
       "      <td>Yes</td>\n",
       "      <td>Mailed check</td>\n",
       "      <td>74.40</td>\n",
       "      <td>306.6</td>\n",
       "      <td>Yes</td>\n",
       "    </tr>\n",
       "    <tr>\n",
       "      <th>7042</th>\n",
       "      <td>NaN</td>\n",
       "      <td>0.0</td>\n",
       "      <td>No</td>\n",
       "      <td>No</td>\n",
       "      <td>66</td>\n",
       "      <td>Yes</td>\n",
       "      <td>No</td>\n",
       "      <td>Fiber optic</td>\n",
       "      <td>Yes</td>\n",
       "      <td>No</td>\n",
       "      <td>Yes</td>\n",
       "      <td>Yes</td>\n",
       "      <td>Yes</td>\n",
       "      <td>Yes</td>\n",
       "      <td>Two year</td>\n",
       "      <td>Yes</td>\n",
       "      <td>Bank transfer (automatic)</td>\n",
       "      <td>105.65</td>\n",
       "      <td>6844.5</td>\n",
       "      <td>No</td>\n",
       "    </tr>\n",
       "  </tbody>\n",
       "</table>\n",
       "<p>7043 rows × 20 columns</p>\n",
       "</div>"
      ],
      "text/plain": [
       "      gender  SeniorCitizen Partner Dependents  tenure PhoneService  \\\n",
       "0        NaN            0.0     Yes         No       1           No   \n",
       "1       Male            0.0      No         No      34          Yes   \n",
       "2       Male            0.0      No         No       2          Yes   \n",
       "3       Male            0.0      No         No      45           No   \n",
       "4     Female            0.0      No         No       2          Yes   \n",
       "...      ...            ...     ...        ...     ...          ...   \n",
       "7038    Male            0.0     Yes        Yes      24          Yes   \n",
       "7039  Female            0.0     Yes        Yes      72          Yes   \n",
       "7040  Female            0.0     Yes        Yes      11           No   \n",
       "7041    Male            1.0     Yes         No       4          Yes   \n",
       "7042     NaN            0.0      No         No      66          Yes   \n",
       "\n",
       "         MultipleLines InternetService OnlineSecurity OnlineBackup  \\\n",
       "0     No phone service             DSL             No          Yes   \n",
       "1                   No             DSL            Yes           No   \n",
       "2                   No             DSL            Yes          Yes   \n",
       "3     No phone service             DSL            Yes           No   \n",
       "4                   No     Fiber optic             No           No   \n",
       "...                ...             ...            ...          ...   \n",
       "7038               Yes             DSL            Yes           No   \n",
       "7039               Yes     Fiber optic             No          Yes   \n",
       "7040  No phone service             DSL            Yes           No   \n",
       "7041               Yes     Fiber optic             No           No   \n",
       "7042                No     Fiber optic            Yes           No   \n",
       "\n",
       "     DeviceProtection TechSupport StreamingTV StreamingMovies        Contract  \\\n",
       "0                  No          No          No              No             NaN   \n",
       "1                 Yes          No          No              No        One year   \n",
       "2                 NaN          No          No              No  Month-to-month   \n",
       "3                 NaN         Yes          No              No        One year   \n",
       "4                 NaN          No          No              No  Month-to-month   \n",
       "...               ...         ...         ...             ...             ...   \n",
       "7038              Yes         Yes         Yes             Yes        One year   \n",
       "7039              Yes          No         Yes             Yes        One year   \n",
       "7040               No          No          No              No  Month-to-month   \n",
       "7041               No          No          No              No  Month-to-month   \n",
       "7042              Yes         Yes         Yes             Yes        Two year   \n",
       "\n",
       "     PaperlessBilling              PaymentMethod  MonthlyCharges TotalCharges  \\\n",
       "0                 Yes           Electronic check           29.85        29.85   \n",
       "1                  No               Mailed check           56.95       1889.5   \n",
       "2                 Yes               Mailed check           53.85       108.15   \n",
       "3                  No  Bank transfer (automatic)           42.30      1840.75   \n",
       "4                 Yes           Electronic check           70.70       151.65   \n",
       "...               ...                        ...             ...          ...   \n",
       "7038              Yes               Mailed check           84.80       1990.5   \n",
       "7039              Yes    Credit card (automatic)          103.20       7362.9   \n",
       "7040              Yes           Electronic check           29.60       346.45   \n",
       "7041              Yes               Mailed check           74.40        306.6   \n",
       "7042              Yes  Bank transfer (automatic)          105.65       6844.5   \n",
       "\n",
       "     Churn  \n",
       "0       No  \n",
       "1       No  \n",
       "2      Yes  \n",
       "3       No  \n",
       "4      Yes  \n",
       "...    ...  \n",
       "7038    No  \n",
       "7039    No  \n",
       "7040    No  \n",
       "7041   Yes  \n",
       "7042    No  \n",
       "\n",
       "[7043 rows x 20 columns]"
      ]
     },
     "execution_count": 265,
     "metadata": {},
     "output_type": "execute_result"
    }
   ],
   "source": [
    "df"
   ]
  },
  {
   "cell_type": "markdown",
   "metadata": {
    "id": "7fT9Rdfjzt6F"
   },
   "source": [
    "## 컬럼 내용 변경하기\n",
    "\n",
    "범주형 문자 데이터를 숫자 변환하는것은 성능에 많은 영향을 미치므로 꼭 변환한다.<br>\n",
    "null, _ 같은 문제있는 문자 데이터를 모델링하기 전에 미리 다른 데이터로 변경, 혹은 삭제한다."
   ]
  },
  {
   "cell_type": "markdown",
   "metadata": {
    "id": "Nw6o9Zw5zt6F"
   },
   "source": [
    "- TotalCharges 컬럼 타입 변경하기"
   ]
  },
  {
   "cell_type": "code",
   "execution_count": 269,
   "metadata": {
    "colab": {
     "base_uri": "https://localhost:8080/",
     "height": 295
    },
    "id": "7DKd8MUCPaco",
    "outputId": "9eb0ed3d-fa66-44cc-88bc-bc37ae74e8dc",
    "scrolled": true
   },
   "outputs": [
    {
     "ename": "ValueError",
     "evalue": "could not convert string to float: ' '",
     "output_type": "error",
     "traceback": [
      "\u001b[1;31m---------------------------------------------------------------------------\u001b[0m",
      "\u001b[1;31mValueError\u001b[0m                                Traceback (most recent call last)",
      "Cell \u001b[1;32mIn[269], line 2\u001b[0m\n\u001b[0;32m      1\u001b[0m \u001b[38;5;66;03m#TotalCharges가 object로 되어있으므로 float로 변경\u001b[39;00m\n\u001b[1;32m----> 2\u001b[0m df[\u001b[38;5;124m'\u001b[39m\u001b[38;5;124mTotalCharges\u001b[39m\u001b[38;5;124m'\u001b[39m]\u001b[38;5;241m=\u001b[39mdf[\u001b[38;5;124m'\u001b[39m\u001b[38;5;124mTotalCharges\u001b[39m\u001b[38;5;124m'\u001b[39m]\u001b[38;5;241m.\u001b[39mastype(\u001b[38;5;28mfloat\u001b[39m)\n",
      "File \u001b[1;32mC:\\ProgramData\\anaconda3\\Lib\\site-packages\\pandas\\core\\generic.py:6643\u001b[0m, in \u001b[0;36mNDFrame.astype\u001b[1;34m(self, dtype, copy, errors)\u001b[0m\n\u001b[0;32m   6637\u001b[0m     results \u001b[38;5;241m=\u001b[39m [\n\u001b[0;32m   6638\u001b[0m         ser\u001b[38;5;241m.\u001b[39mastype(dtype, copy\u001b[38;5;241m=\u001b[39mcopy, errors\u001b[38;5;241m=\u001b[39merrors) \u001b[38;5;28;01mfor\u001b[39;00m _, ser \u001b[38;5;129;01min\u001b[39;00m \u001b[38;5;28mself\u001b[39m\u001b[38;5;241m.\u001b[39mitems()\n\u001b[0;32m   6639\u001b[0m     ]\n\u001b[0;32m   6641\u001b[0m \u001b[38;5;28;01melse\u001b[39;00m:\n\u001b[0;32m   6642\u001b[0m     \u001b[38;5;66;03m# else, only a single dtype is given\u001b[39;00m\n\u001b[1;32m-> 6643\u001b[0m     new_data \u001b[38;5;241m=\u001b[39m \u001b[38;5;28mself\u001b[39m\u001b[38;5;241m.\u001b[39m_mgr\u001b[38;5;241m.\u001b[39mastype(dtype\u001b[38;5;241m=\u001b[39mdtype, copy\u001b[38;5;241m=\u001b[39mcopy, errors\u001b[38;5;241m=\u001b[39merrors)\n\u001b[0;32m   6644\u001b[0m     res \u001b[38;5;241m=\u001b[39m \u001b[38;5;28mself\u001b[39m\u001b[38;5;241m.\u001b[39m_constructor_from_mgr(new_data, axes\u001b[38;5;241m=\u001b[39mnew_data\u001b[38;5;241m.\u001b[39maxes)\n\u001b[0;32m   6645\u001b[0m     \u001b[38;5;28;01mreturn\u001b[39;00m res\u001b[38;5;241m.\u001b[39m__finalize__(\u001b[38;5;28mself\u001b[39m, method\u001b[38;5;241m=\u001b[39m\u001b[38;5;124m\"\u001b[39m\u001b[38;5;124mastype\u001b[39m\u001b[38;5;124m\"\u001b[39m)\n",
      "File \u001b[1;32mC:\\ProgramData\\anaconda3\\Lib\\site-packages\\pandas\\core\\internals\\managers.py:430\u001b[0m, in \u001b[0;36mBaseBlockManager.astype\u001b[1;34m(self, dtype, copy, errors)\u001b[0m\n\u001b[0;32m    427\u001b[0m \u001b[38;5;28;01melif\u001b[39;00m using_copy_on_write():\n\u001b[0;32m    428\u001b[0m     copy \u001b[38;5;241m=\u001b[39m \u001b[38;5;28;01mFalse\u001b[39;00m\n\u001b[1;32m--> 430\u001b[0m \u001b[38;5;28;01mreturn\u001b[39;00m \u001b[38;5;28mself\u001b[39m\u001b[38;5;241m.\u001b[39mapply(\n\u001b[0;32m    431\u001b[0m     \u001b[38;5;124m\"\u001b[39m\u001b[38;5;124mastype\u001b[39m\u001b[38;5;124m\"\u001b[39m,\n\u001b[0;32m    432\u001b[0m     dtype\u001b[38;5;241m=\u001b[39mdtype,\n\u001b[0;32m    433\u001b[0m     copy\u001b[38;5;241m=\u001b[39mcopy,\n\u001b[0;32m    434\u001b[0m     errors\u001b[38;5;241m=\u001b[39merrors,\n\u001b[0;32m    435\u001b[0m     using_cow\u001b[38;5;241m=\u001b[39musing_copy_on_write(),\n\u001b[0;32m    436\u001b[0m )\n",
      "File \u001b[1;32mC:\\ProgramData\\anaconda3\\Lib\\site-packages\\pandas\\core\\internals\\managers.py:363\u001b[0m, in \u001b[0;36mBaseBlockManager.apply\u001b[1;34m(self, f, align_keys, **kwargs)\u001b[0m\n\u001b[0;32m    361\u001b[0m         applied \u001b[38;5;241m=\u001b[39m b\u001b[38;5;241m.\u001b[39mapply(f, \u001b[38;5;241m*\u001b[39m\u001b[38;5;241m*\u001b[39mkwargs)\n\u001b[0;32m    362\u001b[0m     \u001b[38;5;28;01melse\u001b[39;00m:\n\u001b[1;32m--> 363\u001b[0m         applied \u001b[38;5;241m=\u001b[39m \u001b[38;5;28mgetattr\u001b[39m(b, f)(\u001b[38;5;241m*\u001b[39m\u001b[38;5;241m*\u001b[39mkwargs)\n\u001b[0;32m    364\u001b[0m     result_blocks \u001b[38;5;241m=\u001b[39m extend_blocks(applied, result_blocks)\n\u001b[0;32m    366\u001b[0m out \u001b[38;5;241m=\u001b[39m \u001b[38;5;28mtype\u001b[39m(\u001b[38;5;28mself\u001b[39m)\u001b[38;5;241m.\u001b[39mfrom_blocks(result_blocks, \u001b[38;5;28mself\u001b[39m\u001b[38;5;241m.\u001b[39maxes)\n",
      "File \u001b[1;32mC:\\ProgramData\\anaconda3\\Lib\\site-packages\\pandas\\core\\internals\\blocks.py:758\u001b[0m, in \u001b[0;36mBlock.astype\u001b[1;34m(self, dtype, copy, errors, using_cow, squeeze)\u001b[0m\n\u001b[0;32m    755\u001b[0m         \u001b[38;5;28;01mraise\u001b[39;00m \u001b[38;5;167;01mValueError\u001b[39;00m(\u001b[38;5;124m\"\u001b[39m\u001b[38;5;124mCan not squeeze with more than one column.\u001b[39m\u001b[38;5;124m\"\u001b[39m)\n\u001b[0;32m    756\u001b[0m     values \u001b[38;5;241m=\u001b[39m values[\u001b[38;5;241m0\u001b[39m, :]  \u001b[38;5;66;03m# type: ignore[call-overload]\u001b[39;00m\n\u001b[1;32m--> 758\u001b[0m new_values \u001b[38;5;241m=\u001b[39m astype_array_safe(values, dtype, copy\u001b[38;5;241m=\u001b[39mcopy, errors\u001b[38;5;241m=\u001b[39merrors)\n\u001b[0;32m    760\u001b[0m new_values \u001b[38;5;241m=\u001b[39m maybe_coerce_values(new_values)\n\u001b[0;32m    762\u001b[0m refs \u001b[38;5;241m=\u001b[39m \u001b[38;5;28;01mNone\u001b[39;00m\n",
      "File \u001b[1;32mC:\\ProgramData\\anaconda3\\Lib\\site-packages\\pandas\\core\\dtypes\\astype.py:237\u001b[0m, in \u001b[0;36mastype_array_safe\u001b[1;34m(values, dtype, copy, errors)\u001b[0m\n\u001b[0;32m    234\u001b[0m     dtype \u001b[38;5;241m=\u001b[39m dtype\u001b[38;5;241m.\u001b[39mnumpy_dtype\n\u001b[0;32m    236\u001b[0m \u001b[38;5;28;01mtry\u001b[39;00m:\n\u001b[1;32m--> 237\u001b[0m     new_values \u001b[38;5;241m=\u001b[39m astype_array(values, dtype, copy\u001b[38;5;241m=\u001b[39mcopy)\n\u001b[0;32m    238\u001b[0m \u001b[38;5;28;01mexcept\u001b[39;00m (\u001b[38;5;167;01mValueError\u001b[39;00m, \u001b[38;5;167;01mTypeError\u001b[39;00m):\n\u001b[0;32m    239\u001b[0m     \u001b[38;5;66;03m# e.g. _astype_nansafe can fail on object-dtype of strings\u001b[39;00m\n\u001b[0;32m    240\u001b[0m     \u001b[38;5;66;03m#  trying to convert to float\u001b[39;00m\n\u001b[0;32m    241\u001b[0m     \u001b[38;5;28;01mif\u001b[39;00m errors \u001b[38;5;241m==\u001b[39m \u001b[38;5;124m\"\u001b[39m\u001b[38;5;124mignore\u001b[39m\u001b[38;5;124m\"\u001b[39m:\n",
      "File \u001b[1;32mC:\\ProgramData\\anaconda3\\Lib\\site-packages\\pandas\\core\\dtypes\\astype.py:182\u001b[0m, in \u001b[0;36mastype_array\u001b[1;34m(values, dtype, copy)\u001b[0m\n\u001b[0;32m    179\u001b[0m     values \u001b[38;5;241m=\u001b[39m values\u001b[38;5;241m.\u001b[39mastype(dtype, copy\u001b[38;5;241m=\u001b[39mcopy)\n\u001b[0;32m    181\u001b[0m \u001b[38;5;28;01melse\u001b[39;00m:\n\u001b[1;32m--> 182\u001b[0m     values \u001b[38;5;241m=\u001b[39m _astype_nansafe(values, dtype, copy\u001b[38;5;241m=\u001b[39mcopy)\n\u001b[0;32m    184\u001b[0m \u001b[38;5;66;03m# in pandas we don't store numpy str dtypes, so convert to object\u001b[39;00m\n\u001b[0;32m    185\u001b[0m \u001b[38;5;28;01mif\u001b[39;00m \u001b[38;5;28misinstance\u001b[39m(dtype, np\u001b[38;5;241m.\u001b[39mdtype) \u001b[38;5;129;01mand\u001b[39;00m \u001b[38;5;28missubclass\u001b[39m(values\u001b[38;5;241m.\u001b[39mdtype\u001b[38;5;241m.\u001b[39mtype, \u001b[38;5;28mstr\u001b[39m):\n",
      "File \u001b[1;32mC:\\ProgramData\\anaconda3\\Lib\\site-packages\\pandas\\core\\dtypes\\astype.py:133\u001b[0m, in \u001b[0;36m_astype_nansafe\u001b[1;34m(arr, dtype, copy, skipna)\u001b[0m\n\u001b[0;32m    129\u001b[0m     \u001b[38;5;28;01mraise\u001b[39;00m \u001b[38;5;167;01mValueError\u001b[39;00m(msg)\n\u001b[0;32m    131\u001b[0m \u001b[38;5;28;01mif\u001b[39;00m copy \u001b[38;5;129;01mor\u001b[39;00m arr\u001b[38;5;241m.\u001b[39mdtype \u001b[38;5;241m==\u001b[39m \u001b[38;5;28mobject\u001b[39m \u001b[38;5;129;01mor\u001b[39;00m dtype \u001b[38;5;241m==\u001b[39m \u001b[38;5;28mobject\u001b[39m:\n\u001b[0;32m    132\u001b[0m     \u001b[38;5;66;03m# Explicit copy, or required since NumPy can't view from / to object.\u001b[39;00m\n\u001b[1;32m--> 133\u001b[0m     \u001b[38;5;28;01mreturn\u001b[39;00m arr\u001b[38;5;241m.\u001b[39mastype(dtype, copy\u001b[38;5;241m=\u001b[39m\u001b[38;5;28;01mTrue\u001b[39;00m)\n\u001b[0;32m    135\u001b[0m \u001b[38;5;28;01mreturn\u001b[39;00m arr\u001b[38;5;241m.\u001b[39mastype(dtype, copy\u001b[38;5;241m=\u001b[39mcopy)\n",
      "\u001b[1;31mValueError\u001b[0m: could not convert string to float: ' '"
     ]
    }
   ],
   "source": [
    "#TotalCharges가 object로 되어있으므로 float로 변경\n",
    "df['TotalCharges']=df['TotalCharges'].astype(float)"
   ]
  },
  {
   "cell_type": "code",
   "execution_count": 271,
   "metadata": {
    "colab": {
     "base_uri": "https://localhost:8080/"
    },
    "id": "E6dx6reSPnm4",
    "outputId": "6db986c9-b72a-4547-b666-1ffde4cd3ce7",
    "scrolled": true
   },
   "outputs": [],
   "source": [
    "df['TotalCharges'].replace([' '],['0'],inplace=True) "
   ]
  },
  {
   "cell_type": "code",
   "execution_count": 273,
   "metadata": {
    "colab": {
     "base_uri": "https://localhost:8080/"
    },
    "id": "CxKGXN9izt6F",
    "outputId": "829a2f31-5874-4ac9-9eb7-b8a9dfc0fa8b"
   },
   "outputs": [
    {
     "data": {
      "text/plain": [
       "0         29.85\n",
       "1       1889.50\n",
       "2        108.15\n",
       "3       1840.75\n",
       "4        151.65\n",
       "         ...   \n",
       "7038    1990.50\n",
       "7039    7362.90\n",
       "7040     346.45\n",
       "7041     306.60\n",
       "7042    6844.50\n",
       "Name: TotalCharges, Length: 7043, dtype: float64"
      ]
     },
     "execution_count": 273,
     "metadata": {},
     "output_type": "execute_result"
    }
   ],
   "source": [
    "df['TotalCharges']=df['TotalCharges'].astype(float)\n",
    "df['TotalCharges']"
   ]
  },
  {
   "cell_type": "code",
   "execution_count": 275,
   "metadata": {
    "colab": {
     "base_uri": "https://localhost:8080/",
     "height": 423
    },
    "id": "yrdzzMKPPvp6",
    "outputId": "bc86deeb-ebb1-45f9-d353-5a03dd2a545c"
   },
   "outputs": [
    {
     "data": {
      "text/html": [
       "<div>\n",
       "<style scoped>\n",
       "    .dataframe tbody tr th:only-of-type {\n",
       "        vertical-align: middle;\n",
       "    }\n",
       "\n",
       "    .dataframe tbody tr th {\n",
       "        vertical-align: top;\n",
       "    }\n",
       "\n",
       "    .dataframe thead th {\n",
       "        text-align: right;\n",
       "    }\n",
       "</style>\n",
       "<table border=\"1\" class=\"dataframe\">\n",
       "  <thead>\n",
       "    <tr style=\"text-align: right;\">\n",
       "      <th></th>\n",
       "      <th>SeniorCitizen</th>\n",
       "      <th>tenure</th>\n",
       "      <th>MonthlyCharges</th>\n",
       "      <th>TotalCharges</th>\n",
       "    </tr>\n",
       "  </thead>\n",
       "  <tbody>\n",
       "    <tr>\n",
       "      <th>count</th>\n",
       "      <td>7042.000000</td>\n",
       "      <td>7043.000000</td>\n",
       "      <td>7042.000000</td>\n",
       "      <td>7043.000000</td>\n",
       "    </tr>\n",
       "    <tr>\n",
       "      <th>mean</th>\n",
       "      <td>0.162170</td>\n",
       "      <td>32.371149</td>\n",
       "      <td>64.763256</td>\n",
       "      <td>2279.734304</td>\n",
       "    </tr>\n",
       "    <tr>\n",
       "      <th>std</th>\n",
       "      <td>0.368633</td>\n",
       "      <td>24.559481</td>\n",
       "      <td>30.091898</td>\n",
       "      <td>2266.794470</td>\n",
       "    </tr>\n",
       "    <tr>\n",
       "      <th>min</th>\n",
       "      <td>0.000000</td>\n",
       "      <td>0.000000</td>\n",
       "      <td>18.250000</td>\n",
       "      <td>0.000000</td>\n",
       "    </tr>\n",
       "    <tr>\n",
       "      <th>25%</th>\n",
       "      <td>0.000000</td>\n",
       "      <td>9.000000</td>\n",
       "      <td>35.500000</td>\n",
       "      <td>398.550000</td>\n",
       "    </tr>\n",
       "    <tr>\n",
       "      <th>50%</th>\n",
       "      <td>0.000000</td>\n",
       "      <td>29.000000</td>\n",
       "      <td>70.350000</td>\n",
       "      <td>1394.550000</td>\n",
       "    </tr>\n",
       "    <tr>\n",
       "      <th>75%</th>\n",
       "      <td>0.000000</td>\n",
       "      <td>55.000000</td>\n",
       "      <td>89.850000</td>\n",
       "      <td>3786.600000</td>\n",
       "    </tr>\n",
       "    <tr>\n",
       "      <th>max</th>\n",
       "      <td>1.000000</td>\n",
       "      <td>72.000000</td>\n",
       "      <td>118.750000</td>\n",
       "      <td>8684.800000</td>\n",
       "    </tr>\n",
       "  </tbody>\n",
       "</table>\n",
       "</div>"
      ],
      "text/plain": [
       "       SeniorCitizen       tenure  MonthlyCharges  TotalCharges\n",
       "count    7042.000000  7043.000000     7042.000000   7043.000000\n",
       "mean        0.162170    32.371149       64.763256   2279.734304\n",
       "std         0.368633    24.559481       30.091898   2266.794470\n",
       "min         0.000000     0.000000       18.250000      0.000000\n",
       "25%         0.000000     9.000000       35.500000    398.550000\n",
       "50%         0.000000    29.000000       70.350000   1394.550000\n",
       "75%         0.000000    55.000000       89.850000   3786.600000\n",
       "max         1.000000    72.000000      118.750000   8684.800000"
      ]
     },
     "execution_count": 275,
     "metadata": {},
     "output_type": "execute_result"
    }
   ],
   "source": [
    "df.describe()"
   ]
  },
  {
   "cell_type": "code",
   "execution_count": null,
   "metadata": {
    "colab": {
     "base_uri": "https://localhost:8080/",
     "height": 570
    },
    "id": "-_UvMk4vzt6G",
    "outputId": "e1ea5fb8-05c8-46d2-ac65-de8bd239b721",
    "scrolled": true
   },
   "outputs": [],
   "source": []
  },
  {
   "cell_type": "markdown",
   "metadata": {
    "id": "jP3W6JR7zt6H"
   },
   "source": [
    "- Churn 컬럼의 문자열값을 숫자로 변경"
   ]
  },
  {
   "cell_type": "code",
   "execution_count": 279,
   "metadata": {
    "colab": {
     "base_uri": "https://localhost:8080/"
    },
    "id": "9zrpsGwMzt6H",
    "outputId": "8950bf65-6480-4b22-86d5-abbeed48c0ff"
   },
   "outputs": [
    {
     "name": "stderr",
     "output_type": "stream",
     "text": [
      "C:\\Users\\엄지영\\AppData\\Local\\Temp\\ipykernel_13600\\2079555887.py:1: FutureWarning: A value is trying to be set on a copy of a DataFrame or Series through chained assignment using an inplace method.\n",
      "The behavior will change in pandas 3.0. This inplace method will never work because the intermediate object on which we are setting values always behaves as a copy.\n",
      "\n",
      "For example, when doing 'df[col].method(value, inplace=True)', try using 'df.method({col: value}, inplace=True)' or df[col] = df[col].method(value) instead, to perform the operation inplace on the original object.\n",
      "\n",
      "\n",
      "  df['Churn'].replace(['Yes','No'],[1,0],inplace=True)\n",
      "C:\\Users\\엄지영\\AppData\\Local\\Temp\\ipykernel_13600\\2079555887.py:1: FutureWarning: Downcasting behavior in `replace` is deprecated and will be removed in a future version. To retain the old behavior, explicitly call `result.infer_objects(copy=False)`. To opt-in to the future behavior, set `pd.set_option('future.no_silent_downcasting', True)`\n",
      "  df['Churn'].replace(['Yes','No'],[1,0],inplace=True)\n"
     ]
    }
   ],
   "source": [
    "df['Churn'].replace(['Yes','No'],[1,0],inplace=True)"
   ]
  },
  {
   "cell_type": "code",
   "execution_count": 281,
   "metadata": {
    "id": "AtOxyzm9zt6I"
   },
   "outputs": [
    {
     "data": {
      "text/plain": [
       "Churn\n",
       "0    5174\n",
       "1    1869\n",
       "Name: count, dtype: int64"
      ]
     },
     "execution_count": 281,
     "metadata": {},
     "output_type": "execute_result"
    }
   ],
   "source": [
    "df['Churn'].value_counts()"
   ]
  },
  {
   "cell_type": "code",
   "execution_count": null,
   "metadata": {
    "colab": {
     "base_uri": "https://localhost:8080/"
    },
    "id": "ws8TKo9bzt6I",
    "outputId": "6a3f3a24-1baa-4d09-9722-cc4e42369174"
   },
   "outputs": [],
   "source": []
  },
  {
   "cell_type": "markdown",
   "metadata": {
    "id": "ozIRjhjJzt6I"
   },
   "source": [
    "## Null 데이터 확인"
   ]
  },
  {
   "cell_type": "code",
   "execution_count": 285,
   "metadata": {
    "colab": {
     "base_uri": "https://localhost:8080/"
    },
    "id": "MKO2LGSyzt6J",
    "outputId": "dac66426-f92c-4223-e0e4-d4ff2585169f",
    "scrolled": true
   },
   "outputs": [
    {
     "data": {
      "text/plain": [
       "gender                 9\n",
       "SeniorCitizen          1\n",
       "Partner                0\n",
       "Dependents             2\n",
       "tenure                 0\n",
       "PhoneService           3\n",
       "MultipleLines          0\n",
       "InternetService        0\n",
       "OnlineSecurity         0\n",
       "OnlineBackup           0\n",
       "DeviceProtection    3463\n",
       "TechSupport            0\n",
       "StreamingTV            0\n",
       "StreamingMovies        0\n",
       "Contract               1\n",
       "PaperlessBilling       0\n",
       "PaymentMethod          1\n",
       "MonthlyCharges         1\n",
       "TotalCharges           0\n",
       "Churn                  0\n",
       "dtype: int64"
      ]
     },
     "execution_count": 285,
     "metadata": {},
     "output_type": "execute_result"
    }
   ],
   "source": [
    "df.isnull().sum()"
   ]
  },
  {
   "cell_type": "markdown",
   "metadata": {
    "id": "2Hi-jVgMzt6J"
   },
   "source": [
    "- 결측치 처리\n",
    "\n",
    "데이터에 결측치 있으면 모델링시 알지 못하는 에러 발생할수 있으므로 반드시 결측치를 제거나 변경해야 한다.<br>\n",
    "결측치 제거시 dropna() 함수 활용하면 된다.<br>\n",
    "결측치를 변경시 변경하는 방법이 꼭 정답이 아니며, 여러가지 판단하고 고민이 필요하다.<br>\n",
    "주로, 문자형 컬럼에 대해 최빈값으로 , 숫자형 컬럼에 대해 중간값으로 결측치 대신해서 채울수 있다."
   ]
  },
  {
   "cell_type": "code",
   "execution_count": 288,
   "metadata": {
    "id": "83xoHjqlzt6J"
   },
   "outputs": [
    {
     "ename": "SyntaxError",
     "evalue": "invalid syntax (1711999270.py, line 1)",
     "output_type": "error",
     "traceback": [
      "\u001b[1;36m  Cell \u001b[1;32mIn[288], line 1\u001b[1;36m\u001b[0m\n\u001b[1;33m    1.결측치가 많은 컬럼: DeviceProtection 결측치가 많아 분석가치가 없음. 컬럼 제거\u001b[0m\n\u001b[1;37m      ^\u001b[0m\n\u001b[1;31mSyntaxError\u001b[0m\u001b[1;31m:\u001b[0m invalid syntax\n"
     ]
    }
   ],
   "source": [
    "1.결측치가 많은 컬럼: DeviceProtection 결측치가 많아 분석가치가 없음. 컬럼 제거\n",
    "2.결측치가 적은 컬럼:dropna로 결측치 제거"
   ]
  },
  {
   "cell_type": "code",
   "execution_count": 290,
   "metadata": {
    "colab": {
     "base_uri": "https://localhost:8080/"
    },
    "id": "K3vpuuBwzt6J",
    "outputId": "5b9f575c-4336-43ea-9af1-93235f4aa7e8",
    "scrolled": true
   },
   "outputs": [],
   "source": [
    "df.drop(['DeviceProtection'], axis='columns', inplace=True )\n",
    "df.dropna(inplace=True)"
   ]
  },
  {
   "cell_type": "code",
   "execution_count": 292,
   "metadata": {
    "colab": {
     "base_uri": "https://localhost:8080/"
    },
    "id": "UXdXv6XLzt6K",
    "outputId": "63b53d35-8762-4f8c-a41b-6beabce045ed"
   },
   "outputs": [
    {
     "data": {
      "text/plain": [
       "gender              0\n",
       "SeniorCitizen       0\n",
       "Partner             0\n",
       "Dependents          0\n",
       "tenure              0\n",
       "PhoneService        0\n",
       "MultipleLines       0\n",
       "InternetService     0\n",
       "OnlineSecurity      0\n",
       "OnlineBackup        0\n",
       "TechSupport         0\n",
       "StreamingTV         0\n",
       "StreamingMovies     0\n",
       "Contract            0\n",
       "PaperlessBilling    0\n",
       "PaymentMethod       0\n",
       "MonthlyCharges      0\n",
       "TotalCharges        0\n",
       "Churn               0\n",
       "dtype: int64"
      ]
     },
     "execution_count": 292,
     "metadata": {},
     "output_type": "execute_result"
    }
   ],
   "source": [
    "df.isnull().sum()"
   ]
  },
  {
   "cell_type": "code",
   "execution_count": 296,
   "metadata": {},
   "outputs": [
    {
     "data": {
      "text/plain": [
       "Index(['gender', 'SeniorCitizen', 'Partner', 'Dependents', 'tenure',\n",
       "       'PhoneService', 'MultipleLines', 'InternetService', 'OnlineSecurity',\n",
       "       'OnlineBackup', 'TechSupport', 'StreamingTV', 'StreamingMovies',\n",
       "       'Contract', 'PaperlessBilling', 'PaymentMethod', 'MonthlyCharges',\n",
       "       'TotalCharges', 'Churn'],\n",
       "      dtype='object')"
      ]
     },
     "execution_count": 296,
     "metadata": {},
     "output_type": "execute_result"
    }
   ],
   "source": [
    "df.columns"
   ]
  },
  {
   "cell_type": "markdown",
   "metadata": {
    "id": "45qw-GtGzt6K"
   },
   "source": [
    "# #4. 시각화"
   ]
  },
  {
   "cell_type": "markdown",
   "metadata": {
    "id": "192lDHykzt6K"
   },
   "source": [
    "## 라이브러리 임포트"
   ]
  },
  {
   "cell_type": "code",
   "execution_count": 303,
   "metadata": {
    "id": "q0V7_mlvzt6K"
   },
   "outputs": [],
   "source": [
    "import matplotlib.pyplot as plt\n",
    "%matplotlib inline\n",
    "\n",
    "import seaborn as sns"
   ]
  },
  {
   "cell_type": "markdown",
   "metadata": {
    "id": "9fYXooyxzt6K"
   },
   "source": [
    "## Bar 차트"
   ]
  },
  {
   "cell_type": "code",
   "execution_count": 307,
   "metadata": {
    "colab": {
     "base_uri": "https://localhost:8080/"
    },
    "id": "JHwK2RIFzt6K",
    "outputId": "78a8b7b1-5807-4194-dae7-b228dea39f86"
   },
   "outputs": [
    {
     "data": {
      "text/plain": [
       "<Axes: xlabel='gender'>"
      ]
     },
     "execution_count": 307,
     "metadata": {},
     "output_type": "execute_result"
    },
    {
     "data": {
      "image/png": "[encoded data removed]",
      "text/plain": [
       "<Figure size 640x480 with 1 Axes>"
      ]
     },
     "metadata": {},
     "output_type": "display_data"
    }
   ],
   "source": [
    "df['gender'].value_counts().plot(kind='bar')"
   ]
  },
  {
   "cell_type": "code",
   "execution_count": 309,
   "metadata": {
    "colab": {
     "base_uri": "https://localhost:8080/",
     "height": 484
    },
    "id": "8iSUAfQ6zt6L",
    "outputId": "2eb23f8c-6d07-45df-8f7d-1893509cb954"
   },
   "outputs": [
    {
     "data": {
      "text/plain": [
       "<Axes: xlabel='Partner'>"
      ]
     },
     "execution_count": 309,
     "metadata": {},
     "output_type": "execute_result"
    },
    {
     "data": {
      "image/png": "[encoded data removed]",
      "text/plain": [
       "<Figure size 640x480 with 1 Axes>"
      ]
     },
     "metadata": {},
     "output_type": "display_data"
    }
   ],
   "source": [
    "df['Partner'].value_counts().plot(kind='bar')"
   ]
  },
  {
   "cell_type": "code",
   "execution_count": 311,
   "metadata": {
    "colab": {
     "base_uri": "https://localhost:8080/",
     "height": 456
    },
    "id": "gYRqqgEEzt6L",
    "outputId": "0c3da860-5d60-4af1-f109-0449c4806b3d",
    "scrolled": true
   },
   "outputs": [
    {
     "data": {
      "image/png": "[encoded data removed]",
      "text/plain": [
       "<Figure size 640x480 with 1 Axes>"
      ]
     },
     "metadata": {},
     "output_type": "display_data"
    },
    {
     "data": {
      "image/png": "[encoded data removed]",
      "text/plain": [
       "<Figure size 640x480 with 1 Axes>"
      ]
     },
     "metadata": {},
     "output_type": "display_data"
    },
    {
     "data": {
      "image/png": "[encoded data removed]",
      "text/plain": [
       "<Figure size 640x480 with 1 Axes>"
      ]
     },
     "metadata": {},
     "output_type": "display_data"
    },
    {
     "data": {
      "image/png": "[encoded data removed]",
      "text/plain": [
       "<Figure size 640x480 with 1 Axes>"
      ]
     },
     "metadata": {},
     "output_type": "display_data"
    },
    {
     "data": {
      "image/png": "[encoded data removed]",
      "text/plain": [
       "<Figure size 640x480 with 1 Axes>"
      ]
     },
     "metadata": {},
     "output_type": "display_data"
    },
    {
     "data": {
      "image/png": "[encoded data removed]",
      "text/plain": [
       "<Figure size 640x480 with 1 Axes>"
      ]
     },
     "metadata": {},
     "output_type": "display_data"
    },
    {
     "data": {
      "image/png": "[encoded data removed]",
      "text/plain": [
       "<Figure size 640x480 with 1 Axes>"
      ]
     },
     "metadata": {},
     "output_type": "display_data"
    },
    {
     "data": {
      "image/png": "[encoded data removed]",
      "text/plain": [
       "<Figure size 640x480 with 1 Axes>"
      ]
     },
     "metadata": {},
     "output_type": "display_data"
    },
    {
     "data": {
      "image/png": "[encoded data removed]",
      "text/plain": [
       "<Figure size 640x480 with 1 Axes>"
      ]
     },
     "metadata": {},
     "output_type": "display_data"
    },
    {
     "data": {
      "image/png": "[encoded data removed]",
      "text/plain": [
       "<Figure size 640x480 with 1 Axes>"
      ]
     },
     "metadata": {},
     "output_type": "display_data"
    },
    {
     "data": {
      "image/png": "[encoded data removed]",
      "text/plain": [
       "<Figure size 640x480 with 1 Axes>"
      ]
     },
     "metadata": {},
     "output_type": "display_data"
    },
    {
     "data": {
      "image/png": "[encoded data removed]",
      "text/plain": [
       "<Figure size 640x480 with 1 Axes>"
      ]
     },
     "metadata": {},
     "output_type": "display_data"
    },
    {
     "data": {
      "image/png": "[encoded data removed]",
      "text/plain": [
       "<Figure size 640x480 with 1 Axes>"
      ]
     },
     "metadata": {},
     "output_type": "display_data"
    },
    {
     "data": {
      "image/png": "[encoded data removed]",
      "text/plain": [
       "<Figure size 640x480 with 1 Axes>"
      ]
     },
     "metadata": {},
     "output_type": "display_data"
    }
   ],
   "source": [
    "object_list = df.select_dtypes('object').columns.values\n",
    "\n",
    "for col in object_list:\n",
    "    df[col].value_counts().plot(kind='bar')\n",
    "    plt.title(col)\n",
    "    plt.show()"
   ]
  },
  {
   "cell_type": "code",
   "execution_count": null,
   "metadata": {
    "colab": {
     "base_uri": "https://localhost:8080/",
     "height": 198
    },
    "id": "0E6sIM9Ozt6L",
    "outputId": "88d5813f-f683-4af4-cc82-cecd82fc8d6a"
   },
   "outputs": [],
   "source": []
  },
  {
   "cell_type": "markdown",
   "metadata": {
    "id": "UcI1GbIPzt6M"
   },
   "source": [
    "- 불균형 심한 PhoneService 컬럼 삭제"
   ]
  },
  {
   "cell_type": "code",
   "execution_count": 313,
   "metadata": {
    "id": "7vOTa2mFzt6M"
   },
   "outputs": [],
   "source": [
    "df.drop(['PhoneService'], axis='columns', inplace=True )"
   ]
  },
  {
   "cell_type": "code",
   "execution_count": 316,
   "metadata": {},
   "outputs": [
    {
     "data": {
      "text/plain": [
       "Index(['gender', 'SeniorCitizen', 'Partner', 'Dependents', 'tenure',\n",
       "       'MultipleLines', 'InternetService', 'OnlineSecurity', 'OnlineBackup',\n",
       "       'TechSupport', 'StreamingTV', 'StreamingMovies', 'Contract',\n",
       "       'PaperlessBilling', 'PaymentMethod', 'MonthlyCharges', 'TotalCharges',\n",
       "       'Churn'],\n",
       "      dtype='object')"
      ]
     },
     "execution_count": 316,
     "metadata": {},
     "output_type": "execute_result"
    }
   ],
   "source": [
    "df.columns"
   ]
  },
  {
   "cell_type": "markdown",
   "metadata": {
    "id": "Rn0wGwNGzt6M"
   },
   "source": [
    "## 숫자형 컬럼에 대한 시각화"
   ]
  },
  {
   "cell_type": "code",
   "execution_count": null,
   "metadata": {
    "colab": {
     "base_uri": "https://localhost:8080/",
     "height": 143
    },
    "id": "0iCdMZx_zt6N",
    "outputId": "8fca4dd9-e886-4bdf-8910-60399503065d"
   },
   "outputs": [],
   "source": []
  },
  {
   "cell_type": "markdown",
   "metadata": {
    "id": "69xzs51zzt6N"
   },
   "source": [
    "- Churn 컬럼"
   ]
  },
  {
   "cell_type": "code",
   "execution_count": 318,
   "metadata": {
    "colab": {
     "base_uri": "https://localhost:8080/"
    },
    "id": "xW6s6sHGzt6N",
    "outputId": "bc928fc3-5c1f-47bd-af5d-3bd4fdce86b0"
   },
   "outputs": [
    {
     "data": {
      "text/plain": [
       "<Axes: xlabel='Churn'>"
      ]
     },
     "execution_count": 318,
     "metadata": {},
     "output_type": "execute_result"
    },
    {
     "data": {
      "image/png": "[encoded data removed]",
      "text/plain": [
       "<Figure size 640x480 with 1 Axes>"
      ]
     },
     "metadata": {},
     "output_type": "display_data"
    }
   ],
   "source": [
    "df['Churn'].value_counts().plot(kind='bar')"
   ]
  },
  {
   "cell_type": "code",
   "execution_count": null,
   "metadata": {
    "colab": {
     "base_uri": "https://localhost:8080/",
     "height": 443
    },
    "id": "BGgPFvYizt6N",
    "outputId": "286510e5-d0e8-4e7c-98ba-eaf4e27441ab"
   },
   "outputs": [],
   "source": []
  },
  {
   "cell_type": "markdown",
   "metadata": {
    "id": "NcTCAI3uzt6N"
   },
   "source": [
    "- SeniorCitizen 컬럼"
   ]
  },
  {
   "cell_type": "code",
   "execution_count": 320,
   "metadata": {
    "colab": {
     "base_uri": "https://localhost:8080/"
    },
    "id": "qG3lRh-4zt6N",
    "outputId": "920ed361-a293-43bc-a9d9-d43580813f46"
   },
   "outputs": [
    {
     "data": {
      "text/plain": [
       "<Axes: xlabel='SeniorCitizen'>"
      ]
     },
     "execution_count": 320,
     "metadata": {},
     "output_type": "execute_result"
    },
    {
     "data": {
      "image/png": "[encoded data removed]",
      "text/plain": [
       "<Figure size 640x480 with 1 Axes>"
      ]
     },
     "metadata": {},
     "output_type": "display_data"
    }
   ],
   "source": [
    "df['SeniorCitizen'].value_counts().plot(kind='bar')"
   ]
  },
  {
   "cell_type": "code",
   "execution_count": null,
   "metadata": {
    "colab": {
     "base_uri": "https://localhost:8080/",
     "height": 456
    },
    "id": "6Lerw418zt6O",
    "outputId": "f722f4fa-50a4-4ad6-f66c-b8cd240732e4"
   },
   "outputs": [],
   "source": []
  },
  {
   "cell_type": "code",
   "execution_count": 29,
   "metadata": {
    "id": "vDYDOLtyzt6O",
    "scrolled": true
   },
   "outputs": [],
   "source": []
  },
  {
   "cell_type": "code",
   "execution_count": null,
   "metadata": {
    "colab": {
     "base_uri": "https://localhost:8080/"
    },
    "id": "JttbK72gzt6O",
    "outputId": "c9424279-5162-407a-d9a0-73a956ef7146"
   },
   "outputs": [],
   "source": []
  },
  {
   "cell_type": "markdown",
   "metadata": {
    "id": "KFZu8kIQzt6O"
   },
   "source": [
    "## Histgram"
   ]
  },
  {
   "cell_type": "code",
   "execution_count": 31,
   "metadata": {
    "id": "8w8QE1dzzt6P"
   },
   "outputs": [],
   "source": [
    "# seaborn 라이브러리 임포트\n",
    "#!pip install seaborn\n",
    "\n",
    "import seaborn as sns"
   ]
  },
  {
   "cell_type": "markdown",
   "metadata": {
    "id": "1qgjcXFOzt6P"
   },
   "source": [
    "- tenure 컬럼"
   ]
  },
  {
   "cell_type": "code",
   "execution_count": 322,
   "metadata": {
    "colab": {
     "base_uri": "https://localhost:8080/",
     "height": 467
    },
    "id": "m5tzyEMkzt6P",
    "outputId": "77e99f6f-c587-453f-82c9-b3e40abf7fb1"
   },
   "outputs": [
    {
     "data": {
      "text/plain": [
       "<Axes: xlabel='tenure', ylabel='Count'>"
      ]
     },
     "execution_count": 322,
     "metadata": {},
     "output_type": "execute_result"
    },
    {
     "data": {
      "image/png": "[encoded data removed]",
      "text/plain": [
       "<Figure size 640x480 with 1 Axes>"
      ]
     },
     "metadata": {},
     "output_type": "display_data"
    }
   ],
   "source": [
    "sns.histplot(data=df, x='tenure')"
   ]
  },
  {
   "cell_type": "code",
   "execution_count": 324,
   "metadata": {},
   "outputs": [
    {
     "data": {
      "text/plain": [
       "<Axes: xlabel='tenure', ylabel='Count'>"
      ]
     },
     "execution_count": 324,
     "metadata": {},
     "output_type": "execute_result"
    },
    {
     "data": {
      "image/png": "[encoded data removed]",
      "text/plain": [
       "<Figure size 640x480 with 1 Axes>"
      ]
     },
     "metadata": {},
     "output_type": "display_data"
    }
   ],
   "source": [
    "sns.histplot(data=df, x='tenure', hue='Churn')"
   ]
  },
  {
   "cell_type": "markdown",
   "metadata": {
    "id": "SfYkzDiOzt6Q"
   },
   "source": [
    "- TotalCharges 컬럼"
   ]
  },
  {
   "cell_type": "code",
   "execution_count": 326,
   "metadata": {
    "colab": {
     "base_uri": "https://localhost:8080/",
     "height": 467
    },
    "id": "XBH2Gxwxzt6Q",
    "outputId": "2fc72384-4961-4212-f15b-76f3b82e1146"
   },
   "outputs": [
    {
     "data": {
      "text/plain": [
       "<Axes: xlabel='TotalCharges', ylabel='Count'>"
      ]
     },
     "execution_count": 326,
     "metadata": {},
     "output_type": "execute_result"
    },
    {
     "data": {
      "image/png": "[encoded data removed]",
      "text/plain": [
       "<Figure size 640x480 with 1 Axes>"
      ]
     },
     "metadata": {},
     "output_type": "display_data"
    }
   ],
   "source": [
    "sns.histplot(data=df, x='TotalCharges')"
   ]
  },
  {
   "cell_type": "markdown",
   "metadata": {
    "id": "3ASDnxztzt6Q"
   },
   "source": [
    "## Countplot"
   ]
  },
  {
   "cell_type": "code",
   "execution_count": 328,
   "metadata": {
    "colab": {
     "base_uri": "https://localhost:8080/",
     "height": 467
    },
    "id": "-44H6Dunzt6Q",
    "outputId": "1a44c282-f488-44a5-e103-cbffb631acd8"
   },
   "outputs": [
    {
     "data": {
      "text/plain": [
       "<Axes: xlabel='MultipleLines', ylabel='count'>"
      ]
     },
     "execution_count": 328,
     "metadata": {},
     "output_type": "execute_result"
    },
    {
     "data": {
      "image/png": "[encoded data removed]",
      "text/plain": [
       "<Figure size 640x480 with 1 Axes>"
      ]
     },
     "metadata": {},
     "output_type": "display_data"
    }
   ],
   "source": [
    "sns.countplot(data=df, x='MultipleLines',  hue='Churn')"
   ]
  },
  {
   "cell_type": "markdown",
   "metadata": {
    "id": "y8_NKeymzt6Q"
   },
   "source": [
    "## heatmap"
   ]
  },
  {
   "cell_type": "code",
   "execution_count": 330,
   "metadata": {
    "colab": {
     "base_uri": "https://localhost:8080/",
     "height": 143
    },
    "id": "BotYj0ECzt6R",
    "outputId": "530efbf6-c0e3-4d2c-cbdd-cdf28c30cc83"
   },
   "outputs": [
    {
     "data": {
      "text/plain": [
       "<Axes: >"
      ]
     },
     "execution_count": 330,
     "metadata": {},
     "output_type": "execute_result"
    },
    {
     "data": {
      "image/png": "[encoded data removed]",
      "text/plain": [
       "<Figure size 640x480 with 2 Axes>"
      ]
     },
     "metadata": {},
     "output_type": "display_data"
    }
   ],
   "source": [
    "sns.heatmap(df[['tenure','MonthlyCharges','TotalCharges']].corr(), annot=True)"
   ]
  },
  {
   "cell_type": "code",
   "execution_count": null,
   "metadata": {
    "colab": {
     "base_uri": "https://localhost:8080/",
     "height": 287
    },
    "id": "QyJT99spzt6R",
    "outputId": "c5ca3de8-0d42-4fb0-86fc-b7d39a41ca27"
   },
   "outputs": [],
   "source": []
  },
  {
   "cell_type": "markdown",
   "metadata": {
    "id": "FwM1bubDzt6R"
   },
   "source": [
    "## boxplot"
   ]
  },
  {
   "cell_type": "code",
   "execution_count": 332,
   "metadata": {
    "colab": {
     "base_uri": "https://localhost:8080/",
     "height": 297
    },
    "id": "tAPwIMtrzt6R",
    "outputId": "2cdb955a-a896-4fc9-e063-8f49bc05163e",
    "scrolled": true
   },
   "outputs": [
    {
     "data": {
      "text/plain": [
       "<Axes: xlabel='Churn', ylabel='TotalCharges'>"
      ]
     },
     "execution_count": 332,
     "metadata": {},
     "output_type": "execute_result"
    },
    {
     "data": {
      "image/png": "[encoded data removed]",
      "text/plain": [
       "<Figure size 640x480 with 1 Axes>"
      ]
     },
     "metadata": {},
     "output_type": "display_data"
    }
   ],
   "source": [
    "sns.boxplot(data=df, x='Churn', y='TotalCharges')"
   ]
  },
  {
   "cell_type": "markdown",
   "metadata": {
    "id": "9Ec61f24zt6S"
   },
   "source": [
    "# # 5. 결과 저장하기"
   ]
  },
  {
   "cell_type": "markdown",
   "metadata": {
    "id": "DhIQgEEBzt6S"
   },
   "source": [
    "## 결과를 csv 파일로 저장하기"
   ]
  },
  {
   "cell_type": "code",
   "execution_count": 335,
   "metadata": {
    "id": "hUhvHzC8zt6S"
   },
   "outputs": [],
   "source": [
    "# index=False 주어야 기존 인덱스 값이 저장되지 않음\n",
    "df.to_csv('data_v2.csv', index=False)"
   ]
  },
  {
   "cell_type": "code",
   "execution_count": null,
   "metadata": {
    "colab": {
     "base_uri": "https://localhost:8080/",
     "height": 295
    },
    "id": "DEt2b1N7zt6S",
    "outputId": "604731d1-3f32-477f-8697-5d93018dabaa"
   },
   "outputs": [],
   "source": []
  },
  {
   "cell_type": "code",
   "execution_count": null,
   "metadata": {
    "id": "SYJwVbbxzt6S"
   },
   "outputs": [],
   "source": []
  },
  {
   "cell_type": "markdown",
   "metadata": {
    "id": "GePgMkKbzt6S"
   },
   "source": [
    "# #X. 랩업\n",
    "1. 필요 라이브러리 임포트 및 파일 읽어오기 : pd.read_csv()\n",
    "2. EDA (Exploratory Data Analysis) 탐색적 데이터 분석 : df.info(), df.head(), df.tail()\n",
    "3. 데이터 전처리 수행\n",
    " + 불필요 컬럼 삭제 : df.drop()\n",
    " + 컬럼 내용 변경하기 : df.replace()\n",
    " + Null 처리 : df.replace(), df.fillna()\n",
    " + 컬럼 type 변경하기 : df['col'].astype(int)\n",
    "4. 시각화\n",
    " + matplotlib, seaborn\n",
    " + bar, scatter, countplot, boxplot\n",
    "5. 결과 저장하기\n",
    " + to_csv()"
   ]
  },
  {
   "cell_type": "code",
   "execution_count": null,
   "metadata": {
    "id": "hbihEcMmzt6T"
   },
   "outputs": [],
   "source": []
  }
 ],
 "metadata": {
  "colab": {
   "include_colab_link": true,
   "provenance": []
  },
  "kernelspec": {
   "display_name": "Python 3 (ipykernel)",
   "language": "python",
   "name": "python3"
  },
  "language_info": {
   "codemirror_mode": {
    "name": "ipython",
    "version": 3
   },
   "file_extension": ".py",
   "mimetype": "text/x-python",
   "name": "python",
   "nbconvert_exporter": "python",
   "pygments_lexer": "ipython3",
   "version": "3.12.4"
  }
 },
 "nbformat": 4,
 "nbformat_minor": 4
}
